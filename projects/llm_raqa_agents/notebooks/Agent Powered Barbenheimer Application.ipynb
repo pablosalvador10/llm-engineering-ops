{
 "cells": [
  {
   "cell_type": "markdown",
   "metadata": {},
   "source": [
    "# Questioning Barbie and Oppenheimer Through the Use of Agents\n",
    "\n",
    "In the following notebook we will build an application that queries both the Barbie and Oppenheimer movies Wikipedia pages, as well as their reviews. \n",
    "\n",
    "The main focus of this notebook is to showcase a brief introduction to Agents.\n",
    "\n",
    "## Build 🏗️\n",
    "\n",
    "There are 3 main tasks in this notebook:\n",
    "\n",
    "1. Contruct a Barbie retriever\n",
    "2. Construct an Oppenheimer retriever\n",
    "3. Combine the two and allow users to query both resources from a single input through the use of Agents\n",
    "\n",
    "## Ship 🚢\n",
    "\n",
    "Based on Tuesday's session - construct a Chainlit (or Gradio) application that allows users to interface with the application.\n",
    "\n",
    "## Share 🚀\n",
    "\n",
    "Make a social media post about your final application."
   ]
  },
  {
   "cell_type": "markdown",
   "metadata": {},
   "source": [
    "### Dependencies\n",
    "\n",
    "As always, let's start with some dependencies!"
   ]
  },
  {
   "cell_type": "code",
   "execution_count": null,
   "metadata": {},
   "outputs": [],
   "source": [
    "!pip install -q -U langchain openai"
   ]
  },
  {
   "cell_type": "code",
   "execution_count": 1,
   "metadata": {},
   "outputs": [],
   "source": [
    "import getpass\n",
    "import os\n",
    "openai_api_key = getpass.getpass(\"Enter your OpenAI API Key: \")\n",
    "os.environ[\"OPENAI_API_KEY\"] = openai_api_key"
   ]
  },
  {
   "cell_type": "markdown",
   "metadata": {},
   "source": [
    "### LLM \n",
    "\n",
    "We will be leveraging OpenAI's `gpt-3.5-turbo` throughout the notebook, and we can keep it consistent throughout!"
   ]
  },
  {
   "cell_type": "code",
   "execution_count": 2,
   "metadata": {},
   "outputs": [],
   "source": [
    "from langchain.chat_models import ChatOpenAI\n",
    "llm = ChatOpenAI(model=\"gpt-3.5-turbo\", temperature = 0)"
   ]
  },
  {
   "cell_type": "markdown",
   "metadata": {},
   "source": [
    "### Data Collection and Transformation\n",
    "\n",
    "We'll be leveraging the `WikipediaLoader` tool to collect information from Wikipedia. \n",
    "\n",
    "Be sure to set the `doc_content_chars_max` parameter so that you capture the *entire* Wikipedia article content."
   ]
  },
  {
   "cell_type": "code",
   "execution_count": 3,
   "metadata": {},
   "outputs": [],
   "source": [
    "!pip install -q -U wikipedia"
   ]
  },
  {
   "cell_type": "code",
   "execution_count": 7,
   "metadata": {},
   "outputs": [
    {
     "name": "stderr",
     "output_type": "stream",
     "text": [
      "/Users/salv91/opt/anaconda3/envs/llm/lib/python3.11/site-packages/wikipedia/wikipedia.py:389: GuessedAtParserWarning: No parser was explicitly specified, so I'm using the best available HTML parser for this system (\"lxml\"). This usually isn't a problem, but if you run this code on another system, or in a different virtual environment, it may use a different parser and behave differently.\n",
      "\n",
      "The code that caused this warning is on line 389 of the file /Users/salv91/opt/anaconda3/envs/llm/lib/python3.11/site-packages/wikipedia/wikipedia.py. To get rid of this warning, pass the additional argument 'features=\"lxml\"' to the BeautifulSoup constructor.\n",
      "\n",
      "  lis = BeautifulSoup(html).find_all('li')\n"
     ]
    }
   ],
   "source": [
    "from langchain.document_loaders import WikipediaLoader, CSVLoader\n",
    "import logging\n",
    "logging.basicConfig(level=logging.INFO)\n",
    "logger = logging.getLogger(__name__)\n",
    "\n",
    "BARBIE_REVIEW_CSV_FILE_PATH = \"../../llm_retrieval_augmented_question_answering/data/barbie_review_data.csv\"\n",
    "\n",
    "barbie_wikipedia_docs = WikipediaLoader(\n",
    "    query=\"Barbie (film)\", \n",
    "    load_max_docs=10000, \n",
    "    doc_content_chars_max=1000\n",
    "    ).load()\n",
    "\n",
    "barbie_csv_docs = CSVLoader(\n",
    "    file_path=BARBIE_REVIEW_CSV_FILE_PATH, \n",
    "    source_column=\"Review_Url\"\n",
    "    ).load()"
   ]
  },
  {
   "cell_type": "markdown",
   "metadata": {},
   "source": [
    "Since we'll be using same format source documentation separated by topic, we can save ourselves some extra effort and set up our splitters once. \n",
    "\n",
    "We're going to leverage the `RecursiveCharacterTextSplitter` again, this time paying close attention to the format our Wikipedia articles and reviews are in so we can be sure to chunk them appropritately. \n",
    "\n",
    "> HINT: You can pass a list of separators when you intialize your `RecursiveTextSplitter`! They are acted on in order of element 0 -> element len(list).\n",
    "\n",
    "RELEVANT DOCS:\n",
    "- [`RecursiveCharacterTextSplitter`](https://api.python.langchain.com/en/latest/text_splitter/langchain.text_splitter.RecursiveCharacterTextSplitter.html#langchain.text_splitter.RecursiveCharacterTextSplitter)"
   ]
  },
  {
   "cell_type": "code",
   "execution_count": 8,
   "metadata": {},
   "outputs": [],
   "source": [
    "from langchain.text_splitter import RecursiveCharacterTextSplitter\n",
    "\n",
    "wikipedia_text_splitter = RecursiveCharacterTextSplitter(\n",
    "    chunk_size = 1000,\n",
    "    chunk_overlap = 100,\n",
    "    length_function = len,\n",
    "    is_separator_regex= False,\n",
    "    separators = [\"\\n\\n\", \"\\n\", \". \"] # keep headings, then paragraphs, then sentences\n",
    ")\n",
    "\n",
    "csv_text_splitter = RecursiveCharacterTextSplitter(\n",
    "    chunk_size = 1000,\n",
    "    chunk_overlap = 100,\n",
    "    length_function = len,\n",
    "    is_separator_regex= False,\n",
    "    separators = [\"\\n\", \". \"]  # keep paragraphs, then sentences\n",
    ")\n",
    "\n",
    "chunked_barbie_wikipedia_docs = wikipedia_text_splitter.transform_documents(barbie_wikipedia_docs)\n",
    "chunked_barbie_csv_docs = csv_text_splitter.transform_documents(barbie_csv_docs)"
   ]
  },
  {
   "cell_type": "markdown",
   "metadata": {},
   "source": [
    "#### Retrieval and Embedding Strategy\n",
    "\n",
    "We've already discussed the useful application of `CacheBackedEmbeddings`, so let's do it again!\n",
    "\n",
    "RELEVANT DOCS:\n",
    "- [`CacheBackedEmbeddings`](https://api.python.langchain.com/en/latest/embeddings/langchain.embeddings.cache.CacheBackedEmbeddings.html#langchain-embeddings-cache-cachebackedembeddings)"
   ]
  },
  {
   "cell_type": "code",
   "execution_count": 9,
   "metadata": {},
   "outputs": [],
   "source": [
    "!pip install -q -U rank_bm25 tiktoken faiss-cpu"
   ]
  },
  {
   "cell_type": "code",
   "execution_count": 13,
   "metadata": {},
   "outputs": [],
   "source": [
    "from langchain.retrievers import BM25Retriever, EnsembleRetriever\n",
    "from langchain.vectorstores import FAISS as faiss\n",
    "from langchain.embeddings.openai import OpenAIEmbeddings\n",
    "from langchain.embeddings import CacheBackedEmbeddings\n",
    "from langchain.storage import LocalFileStore\n",
    "\n",
    "# set up cached embeddings store\n",
    "store = LocalFileStore(\"vector_database/cache/\")\n",
    "\n",
    "core_embeddings_model = OpenAIEmbeddings(model=\"text-embedding-ada-002\")\n",
    "\n",
    "embedder = CacheBackedEmbeddings.from_bytes_store(core_embeddings_model, store,\n",
    "    namespace=core_embeddings_model.model\n",
    ")"
   ]
  },
  {
   "cell_type": "markdown",
   "metadata": {},
   "source": [
    "We'll implement a `FAISS` vectorstore, and create a retriever from it."
   ]
  },
  {
   "cell_type": "code",
   "execution_count": 14,
   "metadata": {},
   "outputs": [
    {
     "name": "stderr",
     "output_type": "stream",
     "text": [
      "INFO:faiss.loader:Loading faiss.\n",
      "INFO:faiss.loader:Successfully loaded faiss.\n"
     ]
    }
   ],
   "source": [
    "barbie_csv_faiss_retriever = faiss.from_documents(chunked_barbie_wikipedia_docs, embedder)"
   ]
  },
  {
   "cell_type": "markdown",
   "metadata": {},
   "source": [
    "There are a number of excellent options to retrieve documents - we'll be looking at an additional example today, which is called the `EnsembleRetriever`.\n",
    "\n",
    "The method this is using is outlined in [this paper](https://plg.uwaterloo.ca/~gvcormac/cormacksigir09-rrf.pdf).\n",
    "\n",
    "The brief explanation is:\n",
    "\n",
    "1. We collect results from two different retrieval methods over the same corpus\n",
    "2. We apply a reranking algorithm to rerank our source documents to be the *most relevant* without losing specific or potentially low-ranked information rich documents\n",
    "3. We feed the top-k results into the LLM with our query as context.\n",
    "\n",
    "> HINT: Your weight list should be of type `List[float]` and the `sum(List[float])` should be `1`."
   ]
  },
  {
   "cell_type": "code",
   "execution_count": 15,
   "metadata": {},
   "outputs": [],
   "source": [
    "# set up BM25 retriever\n",
    "barbie_wikipedia_bm25_retriever = BM25Retriever.from_documents(\n",
    "    documents=chunked_barbie_wikipedia_docs\n",
    ")\n",
    "barbie_wikipedia_bm25_retriever.k = 1\n",
    "\n",
    "# set up FAISS vector store\n",
    "barbie_wikipedia_faiss_store = faiss.from_documents(documents=chunked_barbie_wikipedia_docs, embedding=core_embeddings_model)\n",
    "barbie_wikipedia_faiss_retriever = barbie_wikipedia_faiss_store.as_retriever(search_kwargs={\"k\": 1})\n",
    "\n",
    "# set up ensemble retriever\n",
    "barbie_ensemble_retriever = EnsembleRetriever(\n",
    "    retrievers=[barbie_wikipedia_bm25_retriever, barbie_wikipedia_faiss_retriever],\n",
    "    weights=[0.5, 0.5]\n",
    ")"
   ]
  },
  {
   "cell_type": "markdown",
   "metadata": {},
   "source": [
    "#### Retrieval Agent\n",
    "\n",
    "We can create a simple conversational retrieval Agent by using the built-ins provided by LangChain!\n",
    "\n",
    "> HINT: Be sure to provide good natural language descriptions of what the tool should be used for to get the best results.\n",
    "\n",
    "RELEVANT DOCS:\n",
    "- [`create_retriever_tool`](https://api.python.langchain.com/en/latest/agents/langchain.agents.agent_toolkits.conversational_retrieval.tool.create_retriever_tool.html#langchain.agents.agent_toolkits.conversational_retrieval.tool.create_retriever_tool)"
   ]
  },
  {
   "cell_type": "code",
   "execution_count": 17,
   "metadata": {},
   "outputs": [],
   "source": [
    "from langchain.agents.agent_toolkits import create_retriever_tool\n",
    "\n",
    "barbie_wikipedia_retrieval_tool = create_retriever_tool(\n",
    "    retriever=barbie_wikipedia_bm25_retriever,\n",
    "    name=\"Wikipedia_BM25\",\n",
    "    description=\"A tool using the BM25 retriever algorithm to source information from Barbie's Wikipedia page.\"\n",
    ")\n",
    "\n",
    "barbie_csv_retrieval_tool = create_retriever_tool(\n",
    "    retriever=barbie_csv_faiss_retriever.as_retriever(search_kwargs={\"k\": 1}), # converting barbie_csv_faiss_retriever from vector store to retriever\n",
    "    name=\"CSV_FAISS\",\n",
    "    description=\"A FAISS-based retrieval tool for sourcing data from Barbie-related CSV files using a cache vector store.\"\n",
    ")\n",
    "\n",
    "barbie_retriever_tools = [barbie_wikipedia_retrieval_tool, barbie_csv_retrieval_tool]"
   ]
  },
  {
   "cell_type": "markdown",
   "metadata": {},
   "source": [
    "Now that we've created our tools, we can combined them into an agent!\n",
    "\n",
    "RELEVANT DOCS:\n",
    "- [`create_conversational_retrieval_agent`](https://api.python.langchain.com/en/latest/agents/langchain.agents.agent_toolkits.conversational_retrieval.openai_functions.create_conversational_retrieval_agent.html#langchain.agents.agent_toolkits.conversational_retrieval.openai_functions.create_conversational_retrieval_agent)"
   ]
  },
  {
   "cell_type": "code",
   "execution_count": 18,
   "metadata": {},
   "outputs": [],
   "source": [
    "from langchain.agents.agent_toolkits import create_conversational_retrieval_agent\n",
    "\n",
    "barbie_retriever_agent_executor = create_conversational_retrieval_agent(\n",
    "    llm=llm,\n",
    "    tools=barbie_retriever_tools,\n",
    "    verbose=True\n",
    ")"
   ]
  },
  {
   "cell_type": "code",
   "execution_count": 19,
   "metadata": {},
   "outputs": [
    {
     "name": "stdout",
     "output_type": "stream",
     "text": [
      "\n",
      "\n",
      "\u001b[1m> Entering new AgentExecutor chain...\u001b[0m\n",
      "\u001b[32;1m\u001b[1;3m\n",
      "Invoking: `Wikipedia_BM25` with `Barbie`\n",
      "\n",
      "\n",
      "\u001b[0m\u001b[36;1m\u001b[1;3m[Document(page_content='The Barbie Diaries is a 2006 computer-animated motion capture teen drama film directed by Eric Fogel and written by Elise Allen and Laura McCreary which premiered on Nickelodeon on April 30 and on DVD on May 9.The eighth entry in the Barbie film series, it features Kelly Sheridan as the talking vocal provider for Barbie and Skye Sweetnam as her singing vocals. The only Barbie film produced by Curious Pictures and thus the only film in the first decade of the Barbie film franchise not to be produced by Mainframe Entertainment (currently Mainframe Studios), this is also the last Barbie film to be originally distributed by Lionsgate in the United States and Canada, as Universal Studios (now Universal Pictures) was set to take over the home video distribution rights from the next film, Barbie in the 12 Dancing Princesses.\\n\\n\\n== Plot ==\\nIn this film, Barbie is portrayed as a typical American teenager who is a sophomore in high school who encounters the problems that real-life teens often enc', metadata={'title': 'The Barbie Diaries', 'summary': 'The Barbie Diaries is a 2006 computer-animated motion capture teen drama film directed by Eric Fogel and written by Elise Allen and Laura McCreary which premiered on Nickelodeon on April 30 and on DVD on May 9.The eighth entry in the Barbie film series, it features Kelly Sheridan as the talking vocal provider for Barbie and Skye Sweetnam as her singing vocals. The only Barbie film produced by Curious Pictures and thus the only film in the first decade of the Barbie film franchise not to be produced by Mainframe Entertainment (currently Mainframe Studios), this is also the last Barbie film to be originally distributed by Lionsgate in the United States and Canada, as Universal Studios (now Universal Pictures) was set to take over the home video distribution rights from the next film, Barbie in the 12 Dancing Princesses.', 'source': 'https://en.wikipedia.org/wiki/The_Barbie_Diaries'})]\u001b[0m\u001b[32;1m\u001b[1;3mThe Barbie Diaries is a 2006 computer-animated motion capture teen drama film. It is not specifically described as philosophical in nature. The film portrays Barbie as a typical American teenager who is a sophomore in high school and encounters the problems that real-life teens often face. It focuses on themes such as friendship, self-discovery, and navigating the challenges of adolescence. While the movie may have some deeper messages or life lessons, it is not primarily known for being philosophical.\u001b[0m\n",
      "\n",
      "\u001b[1m> Finished chain.\u001b[0m\n"
     ]
    },
    {
     "data": {
      "text/plain": [
       "{'input': 'Did people like Barbie, or did they find it too Philosphical? If they did, can you tell me why the movie is so Philosophical?',\n",
       " 'chat_history': [HumanMessage(content='Did people like Barbie, or did they find it too Philosphical? If they did, can you tell me why the movie is so Philosophical?', additional_kwargs={}, example=False),\n",
       "  AIMessage(content='', additional_kwargs={'function_call': {'name': 'Wikipedia_BM25', 'arguments': '{\\n  \"__arg1\": \"Barbie\"\\n}'}}, example=False),\n",
       "  FunctionMessage(content=\"[Document(page_content='The Barbie Diaries is a 2006 computer-animated motion capture teen drama film directed by Eric Fogel and written by Elise Allen and Laura McCreary which premiered on Nickelodeon on April 30 and on DVD on May 9.The eighth entry in the Barbie film series, it features Kelly Sheridan as the talking vocal provider for Barbie and Skye Sweetnam as her singing vocals. The only Barbie film produced by Curious Pictures and thus the only film in the first decade of the Barbie film franchise not to be produced by Mainframe Entertainment (currently Mainframe Studios), this is also the last Barbie film to be originally distributed by Lionsgate in the United States and Canada, as Universal Studios (now Universal Pictures) was set to take over the home video distribution rights from the next film, Barbie in the 12 Dancing Princesses.\\\\n\\\\n\\\\n== Plot ==\\\\nIn this film, Barbie is portrayed as a typical American teenager who is a sophomore in high school who encounters the problems that real-life teens often enc', metadata={'title': 'The Barbie Diaries', 'summary': 'The Barbie Diaries is a 2006 computer-animated motion capture teen drama film directed by Eric Fogel and written by Elise Allen and Laura McCreary which premiered on Nickelodeon on April 30 and on DVD on May 9.The eighth entry in the Barbie film series, it features Kelly Sheridan as the talking vocal provider for Barbie and Skye Sweetnam as her singing vocals. The only Barbie film produced by Curious Pictures and thus the only film in the first decade of the Barbie film franchise not to be produced by Mainframe Entertainment (currently Mainframe Studios), this is also the last Barbie film to be originally distributed by Lionsgate in the United States and Canada, as Universal Studios (now Universal Pictures) was set to take over the home video distribution rights from the next film, Barbie in the 12 Dancing Princesses.', 'source': 'https://en.wikipedia.org/wiki/The_Barbie_Diaries'})]\", additional_kwargs={}, name='Wikipedia_BM25'),\n",
       "  AIMessage(content='The Barbie Diaries is a 2006 computer-animated motion capture teen drama film. It is not specifically described as philosophical in nature. The film portrays Barbie as a typical American teenager who is a sophomore in high school and encounters the problems that real-life teens often face. It focuses on themes such as friendship, self-discovery, and navigating the challenges of adolescence. While the movie may have some deeper messages or life lessons, it is not primarily known for being philosophical.', additional_kwargs={}, example=False)],\n",
       " 'output': 'The Barbie Diaries is a 2006 computer-animated motion capture teen drama film. It is not specifically described as philosophical in nature. The film portrays Barbie as a typical American teenager who is a sophomore in high school and encounters the problems that real-life teens often face. It focuses on themes such as friendship, self-discovery, and navigating the challenges of adolescence. While the movie may have some deeper messages or life lessons, it is not primarily known for being philosophical.',\n",
       " 'intermediate_steps': [(_FunctionsAgentAction(tool='Wikipedia_BM25', tool_input='Barbie', log='\\nInvoking: `Wikipedia_BM25` with `Barbie`\\n\\n\\n', message_log=[AIMessage(content='', additional_kwargs={'function_call': {'name': 'Wikipedia_BM25', 'arguments': '{\\n  \"__arg1\": \"Barbie\"\\n}'}}, example=False)]),\n",
       "   [Document(page_content='The Barbie Diaries is a 2006 computer-animated motion capture teen drama film directed by Eric Fogel and written by Elise Allen and Laura McCreary which premiered on Nickelodeon on April 30 and on DVD on May 9.The eighth entry in the Barbie film series, it features Kelly Sheridan as the talking vocal provider for Barbie and Skye Sweetnam as her singing vocals. The only Barbie film produced by Curious Pictures and thus the only film in the first decade of the Barbie film franchise not to be produced by Mainframe Entertainment (currently Mainframe Studios), this is also the last Barbie film to be originally distributed by Lionsgate in the United States and Canada, as Universal Studios (now Universal Pictures) was set to take over the home video distribution rights from the next film, Barbie in the 12 Dancing Princesses.\\n\\n\\n== Plot ==\\nIn this film, Barbie is portrayed as a typical American teenager who is a sophomore in high school who encounters the problems that real-life teens often enc', metadata={'title': 'The Barbie Diaries', 'summary': 'The Barbie Diaries is a 2006 computer-animated motion capture teen drama film directed by Eric Fogel and written by Elise Allen and Laura McCreary which premiered on Nickelodeon on April 30 and on DVD on May 9.The eighth entry in the Barbie film series, it features Kelly Sheridan as the talking vocal provider for Barbie and Skye Sweetnam as her singing vocals. The only Barbie film produced by Curious Pictures and thus the only film in the first decade of the Barbie film franchise not to be produced by Mainframe Entertainment (currently Mainframe Studios), this is also the last Barbie film to be originally distributed by Lionsgate in the United States and Canada, as Universal Studios (now Universal Pictures) was set to take over the home video distribution rights from the next film, Barbie in the 12 Dancing Princesses.', 'source': 'https://en.wikipedia.org/wiki/The_Barbie_Diaries'})])]}"
      ]
     },
     "execution_count": 19,
     "metadata": {},
     "output_type": "execute_result"
    }
   ],
   "source": [
    "barbie_retriever_agent_executor({\"input\" : \"Did people like Barbie, or did they find it too Philosphical? If they did, can you tell me why the movie is so Philosophical?\"})"
   ]
  },
  {
   "cell_type": "code",
   "execution_count": 20,
   "metadata": {},
   "outputs": [
    {
     "name": "stdout",
     "output_type": "stream",
     "text": [
      "\n",
      "\n",
      "\u001b[1m> Entering new AgentExecutor chain...\u001b[0m\n",
      "\u001b[32;1m\u001b[1;3mThe Barbie Diaries is a film that follows Barbie, a typical American teenager who is a sophomore in high school. She faces the challenges and problems that real-life teens often encounter, such as navigating friendships, discovering her true self, and dealing with the ups and downs of adolescence. The movie explores themes of friendship, self-discovery, and personal growth.\u001b[0m\n",
      "\n",
      "\u001b[1m> Finished chain.\u001b[0m\n"
     ]
    },
    {
     "data": {
      "text/plain": [
       "{'input': 'What is a very quick summary of the plot of the Barbie movie?',\n",
       " 'chat_history': [HumanMessage(content='Did people like Barbie, or did they find it too Philosphical? If they did, can you tell me why the movie is so Philosophical?', additional_kwargs={}, example=False),\n",
       "  AIMessage(content='', additional_kwargs={'function_call': {'name': 'Wikipedia_BM25', 'arguments': '{\\n  \"__arg1\": \"Barbie\"\\n}'}}, example=False),\n",
       "  FunctionMessage(content=\"[Document(page_content='The Barbie Diaries is a 2006 computer-animated motion capture teen drama film directed by Eric Fogel and written by Elise Allen and Laura McCreary which premiered on Nickelodeon on April 30 and on DVD on May 9.The eighth entry in the Barbie film series, it features Kelly Sheridan as the talking vocal provider for Barbie and Skye Sweetnam as her singing vocals. The only Barbie film produced by Curious Pictures and thus the only film in the first decade of the Barbie film franchise not to be produced by Mainframe Entertainment (currently Mainframe Studios), this is also the last Barbie film to be originally distributed by Lionsgate in the United States and Canada, as Universal Studios (now Universal Pictures) was set to take over the home video distribution rights from the next film, Barbie in the 12 Dancing Princesses.\\\\n\\\\n\\\\n== Plot ==\\\\nIn this film, Barbie is portrayed as a typical American teenager who is a sophomore in high school who encounters the problems that real-life teens often enc', metadata={'title': 'The Barbie Diaries', 'summary': 'The Barbie Diaries is a 2006 computer-animated motion capture teen drama film directed by Eric Fogel and written by Elise Allen and Laura McCreary which premiered on Nickelodeon on April 30 and on DVD on May 9.The eighth entry in the Barbie film series, it features Kelly Sheridan as the talking vocal provider for Barbie and Skye Sweetnam as her singing vocals. The only Barbie film produced by Curious Pictures and thus the only film in the first decade of the Barbie film franchise not to be produced by Mainframe Entertainment (currently Mainframe Studios), this is also the last Barbie film to be originally distributed by Lionsgate in the United States and Canada, as Universal Studios (now Universal Pictures) was set to take over the home video distribution rights from the next film, Barbie in the 12 Dancing Princesses.', 'source': 'https://en.wikipedia.org/wiki/The_Barbie_Diaries'})]\", additional_kwargs={}, name='Wikipedia_BM25'),\n",
       "  AIMessage(content='The Barbie Diaries is a 2006 computer-animated motion capture teen drama film. It is not specifically described as philosophical in nature. The film portrays Barbie as a typical American teenager who is a sophomore in high school and encounters the problems that real-life teens often face. It focuses on themes such as friendship, self-discovery, and navigating the challenges of adolescence. While the movie may have some deeper messages or life lessons, it is not primarily known for being philosophical.', additional_kwargs={}, example=False),\n",
       "  HumanMessage(content='What is a very quick summary of the plot of the Barbie movie?', additional_kwargs={}, example=False),\n",
       "  AIMessage(content='The Barbie Diaries is a film that follows Barbie, a typical American teenager who is a sophomore in high school. She faces the challenges and problems that real-life teens often encounter, such as navigating friendships, discovering her true self, and dealing with the ups and downs of adolescence. The movie explores themes of friendship, self-discovery, and personal growth.', additional_kwargs={}, example=False)],\n",
       " 'output': 'The Barbie Diaries is a film that follows Barbie, a typical American teenager who is a sophomore in high school. She faces the challenges and problems that real-life teens often encounter, such as navigating friendships, discovering her true self, and dealing with the ups and downs of adolescence. The movie explores themes of friendship, self-discovery, and personal growth.',\n",
       " 'intermediate_steps': []}"
      ]
     },
     "execution_count": 20,
     "metadata": {},
     "output_type": "execute_result"
    }
   ],
   "source": [
    "barbie_retriever_agent_executor({\"input\" : \"What is a very quick summary of the plot of the Barbie movie?\"})"
   ]
  },
  {
   "cell_type": "markdown",
   "metadata": {},
   "source": [
    "### Oppenheimer Retrieval System\n",
    "\n",
    "We're going to repourpose some of what we created previously, but this time we'll explore a different multi-source retrieval system."
   ]
  },
  {
   "cell_type": "code",
   "execution_count": 23,
   "metadata": {},
   "outputs": [
    {
     "name": "stderr",
     "output_type": "stream",
     "text": [
      "/Users/salv91/opt/anaconda3/envs/llm/lib/python3.11/site-packages/wikipedia/wikipedia.py:389: GuessedAtParserWarning: No parser was explicitly specified, so I'm using the best available HTML parser for this system (\"lxml\"). This usually isn't a problem, but if you run this code on another system, or in a different virtual environment, it may use a different parser and behave differently.\n",
      "\n",
      "The code that caused this warning is on line 389 of the file /Users/salv91/opt/anaconda3/envs/llm/lib/python3.11/site-packages/wikipedia/wikipedia.py. To get rid of this warning, pass the additional argument 'features=\"lxml\"' to the BeautifulSoup constructor.\n",
      "\n",
      "  lis = BeautifulSoup(html).find_all('li')\n"
     ]
    }
   ],
   "source": [
    "OPPENHEIMER_REVIEW_CSV_FILE_PATH = \"../data/oppenheimer_review_data.csv\"\n",
    "\n",
    "oppenheimer_wikipedia_docs = WikipediaLoader(\n",
    "    query=\"J. Robert Oppenheimer\",\n",
    "    load_max_docs=1000,\n",
    "    doc_content_chars_max=100\n",
    ").load()\n",
    "\n",
    "oppenheimer_csv_docs = CSVLoader(\n",
    "    file_path=OPPENHEIMER_REVIEW_CSV_FILE_PATH, # Modify the file path to the correct location\n",
    "    source_column=\"Review_Url\"\n",
    ").load()"
   ]
  },
  {
   "cell_type": "code",
   "execution_count": 24,
   "metadata": {},
   "outputs": [],
   "source": [
    "chunked_opp_wikipedia_docs = wikipedia_text_splitter.transform_documents(oppenheimer_wikipedia_docs)\n",
    "chunked_opp_csv_docs = csv_text_splitter.transform_documents(oppenheimer_csv_docs)"
   ]
  },
  {
   "cell_type": "code",
   "execution_count": 25,
   "metadata": {},
   "outputs": [],
   "source": [
    "opp_csv_faiss_retriever = faiss.from_documents(chunked_opp_wikipedia_docs, core_embeddings_model)\n",
    "\n",
    "# set up BM25 retriever\n",
    "opp_wikipedia_bm25_retriever = BM25Retriever.from_documents(documents=chunked_opp_wikipedia_docs)\n",
    "opp_wikipedia_bm25_retriever.k = 1\n",
    "\n",
    "# set up FAISS vector store\n",
    "opp_wikipedia_faiss_store = faiss.from_documents(documents=chunked_opp_wikipedia_docs, embedding=core_embeddings_model)\n",
    "opp_wikipedia_faiss_retriever = opp_wikipedia_faiss_store.as_retriever(search_kwargs={\"k\": 1})\n",
    "\n",
    "# set up ensemble retriever\n",
    "opp_ensemble_retriever = EnsembleRetriever(\n",
    "    retrievers=[opp_wikipedia_bm25_retriever, opp_wikipedia_faiss_retriever],\n",
    "    weights=[0.5, 0.5]\n",
    ")\n"
   ]
  },
  {
   "cell_type": "markdown",
   "metadata": {},
   "source": [
    "#### Multi-source chain\n",
    "\n",
    "We're going to allow the LLM to decide which information is most -> least valuable.\n",
    "\n",
    "The way we'll do this is with LangChain's rather powerful \"Expression Language\"!\n",
    "\n",
    "> HINT: You can leverage [this](https://python.langchain.com/docs/use_cases/question_answering/how_to/multiple_retrieval) resource if you get stuck - but experiment with different prompts/formats."
   ]
  },
  {
   "cell_type": "code",
   "execution_count": 26,
   "metadata": {},
   "outputs": [],
   "source": [
    "from langchain.prompts import ChatPromptTemplate\n",
    "\n",
    "system_message = \"\"\"Use the information from the below two sources to answer any questions.\n",
    "\n",
    "Source 1: public user reviews about the Oppenheimer movie\n",
    "<source1>\n",
    "{source1}\n",
    "</source1>\n",
    "\n",
    "Source 2: the wikipedia page for the Oppenheimer movie including the plot summary, cast, and production information\n",
    "<source2>\n",
    "{source2}\n",
    "</source2>\n",
    "\"\"\"\n",
    "\n",
    "prompt = ChatPromptTemplate.from_messages([(\"system\", system_message), (\"human\", \"{question}\")])"
   ]
  },
  {
   "cell_type": "code",
   "execution_count": 28,
   "metadata": {},
   "outputs": [],
   "source": [
    "oppenheimer_multisource_chain = {\n",
    "    \"source1\": (lambda x: x[\"question\"]) | opp_ensemble_retriever,\n",
    "    \"source2\": (lambda x: x[\"question\"]) | opp_ensemble_retriever, # changed opp_csv_faiss_retriever to opp_ensemble_retriever\n",
    "    \"question\": lambda x: x[\"question\"],\n",
    "} | prompt | llm"
   ]
  },
  {
   "cell_type": "code",
   "execution_count": 29,
   "metadata": {},
   "outputs": [
    {
     "data": {
      "text/plain": [
       "AIMessage(content='There is no specific information provided in the given sources about public user reviews or opinions on the Oppenheimer movie.', additional_kwargs={}, example=False)"
      ]
     },
     "execution_count": 29,
     "metadata": {},
     "output_type": "execute_result"
    }
   ],
   "source": [
    "oppenheimer_multisource_chain.invoke({\"question\" : \"What did people think of the Oppenheimer movie?\"})"
   ]
  },
  {
   "cell_type": "markdown",
   "metadata": {},
   "source": [
    "# Agent Creation\n",
    "\n",
    "Now we can finally start building our Agent!\n",
    "\n",
    "The first thing we'll need to do is provide our Agent a Toolbelt. (list of tools). Much like Batman, our LLM-powered Agent can use these tools as it sees fit. \n",
    "\n",
    "While the examples we're constructing in this notebook are straightforward for brevity and simplicities sake - there is no limit to what you can build with Agents, as we'll see as we progress through the program.\n",
    "\n",
    "So, let's begin by setting up our Tools!\n",
    "\n",
    "You'll notice that we have to set up a function to allow our `OppenheimerInfo` tool to interface with the Agent - this is due to it have a specific required input. Creating custom tools is a pattern that you'll want to grow acustomed to as you use LangChain more and more."
   ]
  },
  {
   "cell_type": "code",
   "execution_count": 30,
   "metadata": {},
   "outputs": [],
   "source": [
    "from langchain.agents import Tool\n",
    "\n",
    "def query_oppenheimer_movie_system(question: str) -> str:\n",
    "    \"\"\"\n",
    "    Queries the Oppenheimer Movie Q&A system.\n",
    "    \n",
    "    Args:\n",
    "    - question (str): A fully formed question related to the Oppenheimer movie.\n",
    "    \n",
    "    Returns:\n",
    "    - str: The response from the Oppenheimer Movie Q&A system.\n",
    "    \"\"\"\n",
    "    return oppenheimer_multisource_chain.invoke({\"question\": question})\n",
    "\n",
    "def query_barbie_information_system(question: str) -> str:\n",
    "    \"\"\"\n",
    "    Queries the Barbie Information Retrieval system.\n",
    "    \n",
    "    Args:\n",
    "    - question (str): A fully formed question about Barbie or related topics.\n",
    "    \n",
    "    Returns:\n",
    "    - str: The response from the Barbie Information Retrieval system.\n",
    "    \"\"\"\n",
    "    return oppenheimer_multisource_chain.invoke({\"question\": question})\n",
    "\n",
    "tools = [\n",
    "    Tool(\n",
    "        name=\"Barbie Knowledge Retriever\",\n",
    "        func=barbie_retriever_agent_executor.invoke,\n",
    "        description=\"Retrieves detailed information about Barbie dolls, history, and associated topics. Ensure your query is a complete question for best results.\"\n",
    "    ),\n",
    "    Tool(\n",
    "        name=\"Oppenheimer Movie Query System\",\n",
    "        func=query_oppenheimer_movie_system,\n",
    "        description=\"Fetches answers related to the Oppenheimer movie, including its plot, characters, and behind-the-scenes details. Ensure your query is a complete question for accurate answers.\"\n",
    "    ),\n",
    "]\n"
   ]
  },
  {
   "cell_type": "markdown",
   "metadata": {},
   "source": [
    "Now that we've set up our Agents toolbelt, let's set up the LLM that will be powering it!\n",
    "\n",
    "I would suggest playing around with these prompts - and experiments to find what works best for you.\n",
    "\n",
    "RELEVANT DOCS:\n",
    "- [`ZeroShotAgent`](https://api.python.langchain.com/en/latest/agents/langchain.agents.mrkl.base.ZeroShotAgent.html#langchain-agents-mrkl-base-zeroshotagent)"
   ]
  },
  {
   "cell_type": "code",
   "execution_count": 31,
   "metadata": {},
   "outputs": [],
   "source": [
    "from langchain.agents import ZeroShotAgent, AgentExecutor\n",
    "\n",
    "prefix = \"\"\"Have a conversation with a human, answering the following questions as best you can. You have access to the following tools:\"\"\"\n",
    "suffix = \"\"\"Begin!\"\n",
    "\n",
    "Question: {input}\n",
    "{agent_scratchpad}\"\"\"\n",
    "\n",
    "prompt = ZeroShotAgent.create_prompt(\n",
    "    prefix=prefix,\n",
    "    suffix=suffix,\n",
    "    tools=tools\n",
    ")"
   ]
  },
  {
   "cell_type": "code",
   "execution_count": 32,
   "metadata": {},
   "outputs": [],
   "source": [
    "from langchain import LLMChain\n",
    "\n",
    "llm_chain = LLMChain(llm=llm, prompt=prompt)"
   ]
  },
  {
   "cell_type": "markdown",
   "metadata": {},
   "source": [
    "All that's left to do now is create our `ZeroShotAgent` and our `AgentExecutor`, which are the \"reasoner\" and \"actor\" halfs of the `ReAct` method of Agent implementation.\n",
    "\n",
    "Read all about the `ReAct` framework [here](https://react-lm.github.io/)"
   ]
  },
  {
   "cell_type": "code",
   "execution_count": 33,
   "metadata": {},
   "outputs": [],
   "source": [
    "barbenheimer_agent = ZeroShotAgent(\n",
    "    llm_chain=llm_chain,\n",
    "    tools=tools,\n",
    "    verbose=True)\n",
    "\n",
    "barbenheimer_agent_chain = AgentExecutor.from_agent_and_tools(\n",
    "    agent=barbenheimer_agent,\n",
    "    tools=tools,\n",
    "    verbose=True)"
   ]
  },
  {
   "cell_type": "markdown",
   "metadata": {},
   "source": [
    "## Conclusion\n",
    "\n",
    "All that is left to do now, is feed inputs to your Agent and watch it work!\n",
    "\n",
    "Remember to use the `{\"input\" : \"YOUR QUERY HERE\"}` format when prompting the Agent."
   ]
  },
  {
   "cell_type": "code",
   "execution_count": 34,
   "metadata": {},
   "outputs": [
    {
     "name": "stdout",
     "output_type": "stream",
     "text": [
      "\n",
      "\n",
      "\u001b[1m> Entering new AgentExecutor chain...\u001b[0m\n",
      "\u001b[32;1m\u001b[1;3mThought: I need to find out what people liked about the Barbie movie.\n",
      "Action: Barbie Knowledge Retriever\n",
      "Action Input: What did people like about the Barbie movie?\u001b[0m\n",
      "\n",
      "\u001b[1m> Entering new AgentExecutor chain...\u001b[0m\n",
      "\u001b[32;1m\u001b[1;3m\n",
      "Invoking: `Wikipedia_BM25` with `Barbie`\n",
      "\n",
      "\n",
      "\u001b[0m\u001b[36;1m\u001b[1;3m[Document(page_content='The Barbie Diaries is a 2006 computer-animated motion capture teen drama film directed by Eric Fogel and written by Elise Allen and Laura McCreary which premiered on Nickelodeon on April 30 and on DVD on May 9.The eighth entry in the Barbie film series, it features Kelly Sheridan as the talking vocal provider for Barbie and Skye Sweetnam as her singing vocals. The only Barbie film produced by Curious Pictures and thus the only film in the first decade of the Barbie film franchise not to be produced by Mainframe Entertainment (currently Mainframe Studios), this is also the last Barbie film to be originally distributed by Lionsgate in the United States and Canada, as Universal Studios (now Universal Pictures) was set to take over the home video distribution rights from the next film, Barbie in the 12 Dancing Princesses.\\n\\n\\n== Plot ==\\nIn this film, Barbie is portrayed as a typical American teenager who is a sophomore in high school who encounters the problems that real-life teens often enc', metadata={'title': 'The Barbie Diaries', 'summary': 'The Barbie Diaries is a 2006 computer-animated motion capture teen drama film directed by Eric Fogel and written by Elise Allen and Laura McCreary which premiered on Nickelodeon on April 30 and on DVD on May 9.The eighth entry in the Barbie film series, it features Kelly Sheridan as the talking vocal provider for Barbie and Skye Sweetnam as her singing vocals. The only Barbie film produced by Curious Pictures and thus the only film in the first decade of the Barbie film franchise not to be produced by Mainframe Entertainment (currently Mainframe Studios), this is also the last Barbie film to be originally distributed by Lionsgate in the United States and Canada, as Universal Studios (now Universal Pictures) was set to take over the home video distribution rights from the next film, Barbie in the 12 Dancing Princesses.', 'source': 'https://en.wikipedia.org/wiki/The_Barbie_Diaries'})]\u001b[0m\u001b[32;1m\u001b[1;3mThe specific reasons why people liked The Barbie Diaries movie are not mentioned in the available information. However, it is worth noting that the film is part of the Barbie film series, which has gained popularity among audiences over the years. The series often features positive messages, strong female characters, and themes of friendship, self-discovery, and personal growth. These elements may contribute to the appeal of the Barbie movies for many viewers.\u001b[0m\n",
      "\n",
      "\u001b[1m> Finished chain.\u001b[0m\n",
      "\n",
      "Observation: \u001b[36;1m\u001b[1;3m{'input': 'What did people like about the Barbie movie?', 'chat_history': [HumanMessage(content='Did people like Barbie, or did they find it too Philosphical? If they did, can you tell me why the movie is so Philosophical?', additional_kwargs={}, example=False), AIMessage(content='', additional_kwargs={'function_call': {'name': 'Wikipedia_BM25', 'arguments': '{\\n  \"__arg1\": \"Barbie\"\\n}'}}, example=False), FunctionMessage(content=\"[Document(page_content='The Barbie Diaries is a 2006 computer-animated motion capture teen drama film directed by Eric Fogel and written by Elise Allen and Laura McCreary which premiered on Nickelodeon on April 30 and on DVD on May 9.The eighth entry in the Barbie film series, it features Kelly Sheridan as the talking vocal provider for Barbie and Skye Sweetnam as her singing vocals. The only Barbie film produced by Curious Pictures and thus the only film in the first decade of the Barbie film franchise not to be produced by Mainframe Entertainment (currently Mainframe Studios), this is also the last Barbie film to be originally distributed by Lionsgate in the United States and Canada, as Universal Studios (now Universal Pictures) was set to take over the home video distribution rights from the next film, Barbie in the 12 Dancing Princesses.\\\\n\\\\n\\\\n== Plot ==\\\\nIn this film, Barbie is portrayed as a typical American teenager who is a sophomore in high school who encounters the problems that real-life teens often enc', metadata={'title': 'The Barbie Diaries', 'summary': 'The Barbie Diaries is a 2006 computer-animated motion capture teen drama film directed by Eric Fogel and written by Elise Allen and Laura McCreary which premiered on Nickelodeon on April 30 and on DVD on May 9.The eighth entry in the Barbie film series, it features Kelly Sheridan as the talking vocal provider for Barbie and Skye Sweetnam as her singing vocals. The only Barbie film produced by Curious Pictures and thus the only film in the first decade of the Barbie film franchise not to be produced by Mainframe Entertainment (currently Mainframe Studios), this is also the last Barbie film to be originally distributed by Lionsgate in the United States and Canada, as Universal Studios (now Universal Pictures) was set to take over the home video distribution rights from the next film, Barbie in the 12 Dancing Princesses.', 'source': 'https://en.wikipedia.org/wiki/The_Barbie_Diaries'})]\", additional_kwargs={}, name='Wikipedia_BM25'), AIMessage(content='The Barbie Diaries is a 2006 computer-animated motion capture teen drama film. It is not specifically described as philosophical in nature. The film portrays Barbie as a typical American teenager who is a sophomore in high school and encounters the problems that real-life teens often face. It focuses on themes such as friendship, self-discovery, and navigating the challenges of adolescence. While the movie may have some deeper messages or life lessons, it is not primarily known for being philosophical.', additional_kwargs={}, example=False), HumanMessage(content='What is a very quick summary of the plot of the Barbie movie?', additional_kwargs={}, example=False), AIMessage(content='The Barbie Diaries is a film that follows Barbie, a typical American teenager who is a sophomore in high school. She faces the challenges and problems that real-life teens often encounter, such as navigating friendships, discovering her true self, and dealing with the ups and downs of adolescence. The movie explores themes of friendship, self-discovery, and personal growth.', additional_kwargs={}, example=False), HumanMessage(content='What did people like about the Barbie movie?', additional_kwargs={}, example=False), AIMessage(content='', additional_kwargs={'function_call': {'name': 'Wikipedia_BM25', 'arguments': '{\\n  \"__arg1\": \"Barbie\"\\n}'}}, example=False), FunctionMessage(content=\"[Document(page_content='The Barbie Diaries is a 2006 computer-animated motion capture teen drama film directed by Eric Fogel and written by Elise Allen and Laura McCreary which premiered on Nickelodeon on April 30 and on DVD on May 9.The eighth entry in the Barbie film series, it features Kelly Sheridan as the talking vocal provider for Barbie and Skye Sweetnam as her singing vocals. The only Barbie film produced by Curious Pictures and thus the only film in the first decade of the Barbie film franchise not to be produced by Mainframe Entertainment (currently Mainframe Studios), this is also the last Barbie film to be originally distributed by Lionsgate in the United States and Canada, as Universal Studios (now Universal Pictures) was set to take over the home video distribution rights from the next film, Barbie in the 12 Dancing Princesses.\\\\n\\\\n\\\\n== Plot ==\\\\nIn this film, Barbie is portrayed as a typical American teenager who is a sophomore in high school who encounters the problems that real-life teens often enc', metadata={'title': 'The Barbie Diaries', 'summary': 'The Barbie Diaries is a 2006 computer-animated motion capture teen drama film directed by Eric Fogel and written by Elise Allen and Laura McCreary which premiered on Nickelodeon on April 30 and on DVD on May 9.The eighth entry in the Barbie film series, it features Kelly Sheridan as the talking vocal provider for Barbie and Skye Sweetnam as her singing vocals. The only Barbie film produced by Curious Pictures and thus the only film in the first decade of the Barbie film franchise not to be produced by Mainframe Entertainment (currently Mainframe Studios), this is also the last Barbie film to be originally distributed by Lionsgate in the United States and Canada, as Universal Studios (now Universal Pictures) was set to take over the home video distribution rights from the next film, Barbie in the 12 Dancing Princesses.', 'source': 'https://en.wikipedia.org/wiki/The_Barbie_Diaries'})]\", additional_kwargs={}, name='Wikipedia_BM25'), AIMessage(content='The specific reasons why people liked The Barbie Diaries movie are not mentioned in the available information. However, it is worth noting that the film is part of the Barbie film series, which has gained popularity among audiences over the years. The series often features positive messages, strong female characters, and themes of friendship, self-discovery, and personal growth. These elements may contribute to the appeal of the Barbie movies for many viewers.', additional_kwargs={}, example=False)], 'output': 'The specific reasons why people liked The Barbie Diaries movie are not mentioned in the available information. However, it is worth noting that the film is part of the Barbie film series, which has gained popularity among audiences over the years. The series often features positive messages, strong female characters, and themes of friendship, self-discovery, and personal growth. These elements may contribute to the appeal of the Barbie movies for many viewers.', 'intermediate_steps': [(_FunctionsAgentAction(tool='Wikipedia_BM25', tool_input='Barbie', log='\\nInvoking: `Wikipedia_BM25` with `Barbie`\\n\\n\\n', message_log=[AIMessage(content='', additional_kwargs={'function_call': {'name': 'Wikipedia_BM25', 'arguments': '{\\n  \"__arg1\": \"Barbie\"\\n}'}}, example=False)]), [Document(page_content='The Barbie Diaries is a 2006 computer-animated motion capture teen drama film directed by Eric Fogel and written by Elise Allen and Laura McCreary which premiered on Nickelodeon on April 30 and on DVD on May 9.The eighth entry in the Barbie film series, it features Kelly Sheridan as the talking vocal provider for Barbie and Skye Sweetnam as her singing vocals. The only Barbie film produced by Curious Pictures and thus the only film in the first decade of the Barbie film franchise not to be produced by Mainframe Entertainment (currently Mainframe Studios), this is also the last Barbie film to be originally distributed by Lionsgate in the United States and Canada, as Universal Studios (now Universal Pictures) was set to take over the home video distribution rights from the next film, Barbie in the 12 Dancing Princesses.\\n\\n\\n== Plot ==\\nIn this film, Barbie is portrayed as a typical American teenager who is a sophomore in high school who encounters the problems that real-life teens often enc', metadata={'title': 'The Barbie Diaries', 'summary': 'The Barbie Diaries is a 2006 computer-animated motion capture teen drama film directed by Eric Fogel and written by Elise Allen and Laura McCreary which premiered on Nickelodeon on April 30 and on DVD on May 9.The eighth entry in the Barbie film series, it features Kelly Sheridan as the talking vocal provider for Barbie and Skye Sweetnam as her singing vocals. The only Barbie film produced by Curious Pictures and thus the only film in the first decade of the Barbie film franchise not to be produced by Mainframe Entertainment (currently Mainframe Studios), this is also the last Barbie film to be originally distributed by Lionsgate in the United States and Canada, as Universal Studios (now Universal Pictures) was set to take over the home video distribution rights from the next film, Barbie in the 12 Dancing Princesses.', 'source': 'https://en.wikipedia.org/wiki/The_Barbie_Diaries'})])]}\u001b[0m\n",
      "Thought:\u001b[32;1m\u001b[1;3mI now know that the specific reasons why people liked The Barbie Diaries movie are not mentioned in the available information. However, the Barbie film series has gained popularity among audiences over the years. The series often features positive messages, strong female characters, and themes of friendship, self-discovery, and personal growth. These elements may contribute to the appeal of the Barbie movies for many viewers.\n",
      "\n",
      "Final Answer: The specific reasons why people liked the Barbie movie are not mentioned, but the positive messages, strong female characters, and themes of friendship, self-discovery, and personal growth in the Barbie film series may contribute to its appeal.\u001b[0m\n",
      "\n",
      "\u001b[1m> Finished chain.\u001b[0m\n"
     ]
    },
    {
     "data": {
      "text/plain": [
       "{'input': 'What did people like about the Barbie movie?',\n",
       " 'output': 'The specific reasons why people liked the Barbie movie are not mentioned, but the positive messages, strong female characters, and themes of friendship, self-discovery, and personal growth in the Barbie film series may contribute to its appeal.'}"
      ]
     },
     "execution_count": 34,
     "metadata": {},
     "output_type": "execute_result"
    }
   ],
   "source": [
    "barbenheimer_agent_chain.invoke({\"input\" : \"What did people like about the Barbie movie?\"})"
   ]
  },
  {
   "cell_type": "code",
   "execution_count": 35,
   "metadata": {},
   "outputs": [
    {
     "name": "stdout",
     "output_type": "stream",
     "text": [
      "\n",
      "\n",
      "\u001b[1m> Entering new AgentExecutor chain...\u001b[0m\n",
      "\u001b[32;1m\u001b[1;3mThought: I need to find out what people liked about the Oppenheimer movie.\n",
      "Action: Oppenheimer Movie Query System\n",
      "Action Input: \"What did people like about the Oppenheimer movie?\"\u001b[0m\n",
      "Observation: \u001b[33;1m\u001b[1;3mcontent='Based on the provided information, there is no specific mention of what people liked about the Oppenheimer movie.' additional_kwargs={} example=False\u001b[0m\n",
      "Thought:\u001b[32;1m\u001b[1;3mI couldn't find any specific information about what people liked about the Oppenheimer movie.\n",
      "Final Answer: There is no specific mention of what people liked about the Oppenheimer movie.\u001b[0m\n",
      "\n",
      "\u001b[1m> Finished chain.\u001b[0m\n"
     ]
    },
    {
     "data": {
      "text/plain": [
       "'There is no specific mention of what people liked about the Oppenheimer movie.'"
      ]
     },
     "execution_count": 35,
     "metadata": {},
     "output_type": "execute_result"
    }
   ],
   "source": [
    "barbenheimer_agent_chain.run({\"input\" : \"What did people like about the Oppenheimer movie?\"})"
   ]
  },
  {
   "cell_type": "code",
   "execution_count": 36,
   "metadata": {},
   "outputs": [
    {
     "name": "stdout",
     "output_type": "stream",
     "text": [
      "\n",
      "\n",
      "\u001b[1m> Entering new AgentExecutor chain...\u001b[0m\n",
      "\u001b[32;1m\u001b[1;3mThought: I need to find information about the themes and ideas in both movies to determine if they are similar.\n",
      "Action: Oppenheimer Movie Query System\n",
      "Action Input: What are the main themes in the Oppenheimer movie?\u001b[0m\n",
      "Observation: \u001b[33;1m\u001b[1;3mcontent='Based on the provided information, the main themes in the Oppenheimer movie are not explicitly mentioned. To determine the main themes, it would be necessary to analyze the plot summary and watch the series.' additional_kwargs={} example=False\u001b[0m\n",
      "Thought:\u001b[32;1m\u001b[1;3mI couldn't find specific information about the main themes in the Oppenheimer movie. I'll need to try another approach to compare the themes in both movies.\n",
      "Action: Barbie Knowledge Retriever\n",
      "Action Input: What are the main themes in Barbie movies?\u001b[0m\n",
      "\n",
      "\u001b[1m> Entering new AgentExecutor chain...\u001b[0m\n",
      "\u001b[32;1m\u001b[1;3m\n",
      "Invoking: `Wikipedia_BM25` with `Barbie`\n",
      "\n",
      "\n",
      "\u001b[0m\u001b[36;1m\u001b[1;3m[Document(page_content='The Barbie Diaries is a 2006 computer-animated motion capture teen drama film directed by Eric Fogel and written by Elise Allen and Laura McCreary which premiered on Nickelodeon on April 30 and on DVD on May 9.The eighth entry in the Barbie film series, it features Kelly Sheridan as the talking vocal provider for Barbie and Skye Sweetnam as her singing vocals. The only Barbie film produced by Curious Pictures and thus the only film in the first decade of the Barbie film franchise not to be produced by Mainframe Entertainment (currently Mainframe Studios), this is also the last Barbie film to be originally distributed by Lionsgate in the United States and Canada, as Universal Studios (now Universal Pictures) was set to take over the home video distribution rights from the next film, Barbie in the 12 Dancing Princesses.\\n\\n\\n== Plot ==\\nIn this film, Barbie is portrayed as a typical American teenager who is a sophomore in high school who encounters the problems that real-life teens often enc', metadata={'title': 'The Barbie Diaries', 'summary': 'The Barbie Diaries is a 2006 computer-animated motion capture teen drama film directed by Eric Fogel and written by Elise Allen and Laura McCreary which premiered on Nickelodeon on April 30 and on DVD on May 9.The eighth entry in the Barbie film series, it features Kelly Sheridan as the talking vocal provider for Barbie and Skye Sweetnam as her singing vocals. The only Barbie film produced by Curious Pictures and thus the only film in the first decade of the Barbie film franchise not to be produced by Mainframe Entertainment (currently Mainframe Studios), this is also the last Barbie film to be originally distributed by Lionsgate in the United States and Canada, as Universal Studios (now Universal Pictures) was set to take over the home video distribution rights from the next film, Barbie in the 12 Dancing Princesses.', 'source': 'https://en.wikipedia.org/wiki/The_Barbie_Diaries'})]\u001b[0m\u001b[32;1m\u001b[1;3mThe main themes in Barbie movies vary across different films in the franchise. However, some common themes that are often explored include:\n",
      "\n",
      "1. Friendship: Many Barbie movies emphasize the importance of friendship and showcase the bonds between characters. Friendship is often portrayed as a source of support, loyalty, and strength.\n",
      "\n",
      "2. Self-discovery: Barbie movies often feature stories of self-discovery, where the main character embarks on a journey to find their true identity, talents, or purpose. These stories encourage viewers to embrace their individuality and follow their dreams.\n",
      "\n",
      "3. Empowerment: Barbie movies often promote messages of empowerment, encouraging viewers, especially young girls, to believe in themselves, overcome challenges, and make a positive impact on the world.\n",
      "\n",
      "4. Adventure and Fantasy: Barbie movies frequently take viewers on exciting adventures and transport them to magical or fantastical worlds. These films offer a sense of escapism and inspire imagination.\n",
      "\n",
      "5. Positive Values: Barbie movies often promote positive values such as kindness, compassion, honesty, and perseverance. They aim to teach important life lessons and encourage viewers to make ethical choices.\n",
      "\n",
      "It's important to note that these themes may vary from movie to movie, and each film may have its own unique storyline and message.\u001b[0m\n",
      "\n",
      "\u001b[1m> Finished chain.\u001b[0m\n",
      "\n",
      "Observation: \u001b[36;1m\u001b[1;3m{'input': 'What are the main themes in Barbie movies?', 'chat_history': [HumanMessage(content='Did people like Barbie, or did they find it too Philosphical? If they did, can you tell me why the movie is so Philosophical?', additional_kwargs={}, example=False), AIMessage(content='', additional_kwargs={'function_call': {'name': 'Wikipedia_BM25', 'arguments': '{\\n  \"__arg1\": \"Barbie\"\\n}'}}, example=False), FunctionMessage(content=\"[Document(page_content='The Barbie Diaries is a 2006 computer-animated motion capture teen drama film directed by Eric Fogel and written by Elise Allen and Laura McCreary which premiered on Nickelodeon on April 30 and on DVD on May 9.The eighth entry in the Barbie film series, it features Kelly Sheridan as the talking vocal provider for Barbie and Skye Sweetnam as her singing vocals. The only Barbie film produced by Curious Pictures and thus the only film in the first decade of the Barbie film franchise not to be produced by Mainframe Entertainment (currently Mainframe Studios), this is also the last Barbie film to be originally distributed by Lionsgate in the United States and Canada, as Universal Studios (now Universal Pictures) was set to take over the home video distribution rights from the next film, Barbie in the 12 Dancing Princesses.\\\\n\\\\n\\\\n== Plot ==\\\\nIn this film, Barbie is portrayed as a typical American teenager who is a sophomore in high school who encounters the problems that real-life teens often enc', metadata={'title': 'The Barbie Diaries', 'summary': 'The Barbie Diaries is a 2006 computer-animated motion capture teen drama film directed by Eric Fogel and written by Elise Allen and Laura McCreary which premiered on Nickelodeon on April 30 and on DVD on May 9.The eighth entry in the Barbie film series, it features Kelly Sheridan as the talking vocal provider for Barbie and Skye Sweetnam as her singing vocals. The only Barbie film produced by Curious Pictures and thus the only film in the first decade of the Barbie film franchise not to be produced by Mainframe Entertainment (currently Mainframe Studios), this is also the last Barbie film to be originally distributed by Lionsgate in the United States and Canada, as Universal Studios (now Universal Pictures) was set to take over the home video distribution rights from the next film, Barbie in the 12 Dancing Princesses.', 'source': 'https://en.wikipedia.org/wiki/The_Barbie_Diaries'})]\", additional_kwargs={}, name='Wikipedia_BM25'), AIMessage(content='The Barbie Diaries is a 2006 computer-animated motion capture teen drama film. It is not specifically described as philosophical in nature. The film portrays Barbie as a typical American teenager who is a sophomore in high school and encounters the problems that real-life teens often face. It focuses on themes such as friendship, self-discovery, and navigating the challenges of adolescence. While the movie may have some deeper messages or life lessons, it is not primarily known for being philosophical.', additional_kwargs={}, example=False), HumanMessage(content='What is a very quick summary of the plot of the Barbie movie?', additional_kwargs={}, example=False), AIMessage(content='The Barbie Diaries is a film that follows Barbie, a typical American teenager who is a sophomore in high school. She faces the challenges and problems that real-life teens often encounter, such as navigating friendships, discovering her true self, and dealing with the ups and downs of adolescence. The movie explores themes of friendship, self-discovery, and personal growth.', additional_kwargs={}, example=False), HumanMessage(content='What did people like about the Barbie movie?', additional_kwargs={}, example=False), AIMessage(content='', additional_kwargs={'function_call': {'name': 'Wikipedia_BM25', 'arguments': '{\\n  \"__arg1\": \"Barbie\"\\n}'}}, example=False), FunctionMessage(content=\"[Document(page_content='The Barbie Diaries is a 2006 computer-animated motion capture teen drama film directed by Eric Fogel and written by Elise Allen and Laura McCreary which premiered on Nickelodeon on April 30 and on DVD on May 9.The eighth entry in the Barbie film series, it features Kelly Sheridan as the talking vocal provider for Barbie and Skye Sweetnam as her singing vocals. The only Barbie film produced by Curious Pictures and thus the only film in the first decade of the Barbie film franchise not to be produced by Mainframe Entertainment (currently Mainframe Studios), this is also the last Barbie film to be originally distributed by Lionsgate in the United States and Canada, as Universal Studios (now Universal Pictures) was set to take over the home video distribution rights from the next film, Barbie in the 12 Dancing Princesses.\\\\n\\\\n\\\\n== Plot ==\\\\nIn this film, Barbie is portrayed as a typical American teenager who is a sophomore in high school who encounters the problems that real-life teens often enc', metadata={'title': 'The Barbie Diaries', 'summary': 'The Barbie Diaries is a 2006 computer-animated motion capture teen drama film directed by Eric Fogel and written by Elise Allen and Laura McCreary which premiered on Nickelodeon on April 30 and on DVD on May 9.The eighth entry in the Barbie film series, it features Kelly Sheridan as the talking vocal provider for Barbie and Skye Sweetnam as her singing vocals. The only Barbie film produced by Curious Pictures and thus the only film in the first decade of the Barbie film franchise not to be produced by Mainframe Entertainment (currently Mainframe Studios), this is also the last Barbie film to be originally distributed by Lionsgate in the United States and Canada, as Universal Studios (now Universal Pictures) was set to take over the home video distribution rights from the next film, Barbie in the 12 Dancing Princesses.', 'source': 'https://en.wikipedia.org/wiki/The_Barbie_Diaries'})]\", additional_kwargs={}, name='Wikipedia_BM25'), AIMessage(content='The specific reasons why people liked The Barbie Diaries movie are not mentioned in the available information. However, it is worth noting that the film is part of the Barbie film series, which has gained popularity among audiences over the years. The series often features positive messages, strong female characters, and themes of friendship, self-discovery, and personal growth. These elements may contribute to the appeal of the Barbie movies for many viewers.', additional_kwargs={}, example=False), HumanMessage(content='What are the main themes in Barbie movies?', additional_kwargs={}, example=False), AIMessage(content='', additional_kwargs={'function_call': {'name': 'Wikipedia_BM25', 'arguments': '{\\n  \"__arg1\": \"Barbie\"\\n}'}}, example=False), FunctionMessage(content=\"[Document(page_content='The Barbie Diaries is a 2006 computer-animated motion capture teen drama film directed by Eric Fogel and written by Elise Allen and Laura McCreary which premiered on Nickelodeon on April 30 and on DVD on May 9.The eighth entry in the Barbie film series, it features Kelly Sheridan as the talking vocal provider for Barbie and Skye Sweetnam as her singing vocals. The only Barbie film produced by Curious Pictures and thus the only film in the first decade of the Barbie film franchise not to be produced by Mainframe Entertainment (currently Mainframe Studios), this is also the last Barbie film to be originally distributed by Lionsgate in the United States and Canada, as Universal Studios (now Universal Pictures) was set to take over the home video distribution rights from the next film, Barbie in the 12 Dancing Princesses.\\\\n\\\\n\\\\n== Plot ==\\\\nIn this film, Barbie is portrayed as a typical American teenager who is a sophomore in high school who encounters the problems that real-life teens often enc', metadata={'title': 'The Barbie Diaries', 'summary': 'The Barbie Diaries is a 2006 computer-animated motion capture teen drama film directed by Eric Fogel and written by Elise Allen and Laura McCreary which premiered on Nickelodeon on April 30 and on DVD on May 9.The eighth entry in the Barbie film series, it features Kelly Sheridan as the talking vocal provider for Barbie and Skye Sweetnam as her singing vocals. The only Barbie film produced by Curious Pictures and thus the only film in the first decade of the Barbie film franchise not to be produced by Mainframe Entertainment (currently Mainframe Studios), this is also the last Barbie film to be originally distributed by Lionsgate in the United States and Canada, as Universal Studios (now Universal Pictures) was set to take over the home video distribution rights from the next film, Barbie in the 12 Dancing Princesses.', 'source': 'https://en.wikipedia.org/wiki/The_Barbie_Diaries'})]\", additional_kwargs={}, name='Wikipedia_BM25'), AIMessage(content=\"The main themes in Barbie movies vary across different films in the franchise. However, some common themes that are often explored include:\\n\\n1. Friendship: Many Barbie movies emphasize the importance of friendship and showcase the bonds between characters. Friendship is often portrayed as a source of support, loyalty, and strength.\\n\\n2. Self-discovery: Barbie movies often feature stories of self-discovery, where the main character embarks on a journey to find their true identity, talents, or purpose. These stories encourage viewers to embrace their individuality and follow their dreams.\\n\\n3. Empowerment: Barbie movies often promote messages of empowerment, encouraging viewers, especially young girls, to believe in themselves, overcome challenges, and make a positive impact on the world.\\n\\n4. Adventure and Fantasy: Barbie movies frequently take viewers on exciting adventures and transport them to magical or fantastical worlds. These films offer a sense of escapism and inspire imagination.\\n\\n5. Positive Values: Barbie movies often promote positive values such as kindness, compassion, honesty, and perseverance. They aim to teach important life lessons and encourage viewers to make ethical choices.\\n\\nIt's important to note that these themes may vary from movie to movie, and each film may have its own unique storyline and message.\", additional_kwargs={}, example=False)], 'output': \"The main themes in Barbie movies vary across different films in the franchise. However, some common themes that are often explored include:\\n\\n1. Friendship: Many Barbie movies emphasize the importance of friendship and showcase the bonds between characters. Friendship is often portrayed as a source of support, loyalty, and strength.\\n\\n2. Self-discovery: Barbie movies often feature stories of self-discovery, where the main character embarks on a journey to find their true identity, talents, or purpose. These stories encourage viewers to embrace their individuality and follow their dreams.\\n\\n3. Empowerment: Barbie movies often promote messages of empowerment, encouraging viewers, especially young girls, to believe in themselves, overcome challenges, and make a positive impact on the world.\\n\\n4. Adventure and Fantasy: Barbie movies frequently take viewers on exciting adventures and transport them to magical or fantastical worlds. These films offer a sense of escapism and inspire imagination.\\n\\n5. Positive Values: Barbie movies often promote positive values such as kindness, compassion, honesty, and perseverance. They aim to teach important life lessons and encourage viewers to make ethical choices.\\n\\nIt's important to note that these themes may vary from movie to movie, and each film may have its own unique storyline and message.\", 'intermediate_steps': [(_FunctionsAgentAction(tool='Wikipedia_BM25', tool_input='Barbie', log='\\nInvoking: `Wikipedia_BM25` with `Barbie`\\n\\n\\n', message_log=[AIMessage(content='', additional_kwargs={'function_call': {'name': 'Wikipedia_BM25', 'arguments': '{\\n  \"__arg1\": \"Barbie\"\\n}'}}, example=False)]), [Document(page_content='The Barbie Diaries is a 2006 computer-animated motion capture teen drama film directed by Eric Fogel and written by Elise Allen and Laura McCreary which premiered on Nickelodeon on April 30 and on DVD on May 9.The eighth entry in the Barbie film series, it features Kelly Sheridan as the talking vocal provider for Barbie and Skye Sweetnam as her singing vocals. The only Barbie film produced by Curious Pictures and thus the only film in the first decade of the Barbie film franchise not to be produced by Mainframe Entertainment (currently Mainframe Studios), this is also the last Barbie film to be originally distributed by Lionsgate in the United States and Canada, as Universal Studios (now Universal Pictures) was set to take over the home video distribution rights from the next film, Barbie in the 12 Dancing Princesses.\\n\\n\\n== Plot ==\\nIn this film, Barbie is portrayed as a typical American teenager who is a sophomore in high school who encounters the problems that real-life teens often enc', metadata={'title': 'The Barbie Diaries', 'summary': 'The Barbie Diaries is a 2006 computer-animated motion capture teen drama film directed by Eric Fogel and written by Elise Allen and Laura McCreary which premiered on Nickelodeon on April 30 and on DVD on May 9.The eighth entry in the Barbie film series, it features Kelly Sheridan as the talking vocal provider for Barbie and Skye Sweetnam as her singing vocals. The only Barbie film produced by Curious Pictures and thus the only film in the first decade of the Barbie film franchise not to be produced by Mainframe Entertainment (currently Mainframe Studios), this is also the last Barbie film to be originally distributed by Lionsgate in the United States and Canada, as Universal Studios (now Universal Pictures) was set to take over the home video distribution rights from the next film, Barbie in the 12 Dancing Princesses.', 'source': 'https://en.wikipedia.org/wiki/The_Barbie_Diaries'})])]}\u001b[0m\n",
      "Thought:\u001b[32;1m\u001b[1;3mBased on the information I found, the main themes in the Oppenheimer movie are not explicitly mentioned. However, the Barbie movies often explore themes such as friendship, self-discovery, empowerment, adventure and fantasy, and positive values. Without specific information about the themes in the Oppenheimer movie, it is difficult to determine if they share similar themes or ideas.\n",
      "Final Answer: It is unclear if the movies Barbie and Oppenheimer share similar themes or ideas.\u001b[0m\n",
      "\n",
      "\u001b[1m> Finished chain.\u001b[0m\n"
     ]
    },
    {
     "data": {
      "text/plain": [
       "'It is unclear if the movies Barbie and Oppenheimer share similar themes or ideas.'"
      ]
     },
     "execution_count": 36,
     "metadata": {},
     "output_type": "execute_result"
    }
   ],
   "source": [
    "barbenheimer_agent_chain.run({\"input\" : \"Did the movies Barbie and Oppenheimer share similar themes or ideas?\"})"
   ]
  },
  {
   "cell_type": "markdown",
   "metadata": {},
   "source": [
    "## Next Steps\n",
    "\n",
    "It's time to build a Chainlit (or Gradio) application and host it on Hugging Face Spaces! :ship:"
   ]
  }
 ],
 "metadata": {
  "kernelspec": {
   "display_name": "Python 3.11.4 ('llm')",
   "language": "python",
   "name": "python3"
  },
  "language_info": {
   "codemirror_mode": {
    "name": "ipython",
    "version": 3
   },
   "file_extension": ".py",
   "mimetype": "text/x-python",
   "name": "python",
   "nbconvert_exporter": "python",
   "pygments_lexer": "ipython3",
   "version": "3.11.4"
  },
  "orig_nbformat": 4,
  "vscode": {
   "interpreter": {
    "hash": "099b3562728e9dc26fc81dae448eacb5d19b60b8460e25273cdfa0787d678e16"
   }
  }
 },
 "nbformat": 4,
 "nbformat_minor": 2
}
