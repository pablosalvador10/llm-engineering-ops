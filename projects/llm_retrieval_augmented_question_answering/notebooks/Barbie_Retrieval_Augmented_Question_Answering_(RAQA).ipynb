{
 "cells": [
  {
   "cell_type": "markdown",
   "metadata": {
    "colab_type": "text",
    "id": "view-in-github"
   },
   "source": [
    "<a href=\"https://colab.research.google.com/github/AI-Maker-Space/LLM-Ops-Vault/blob/main/Week%201/First%20Session/Barbie_Retrieval_Augmented_Question_Answering_(RAQA)_Assignment%20(Assignment%20Version).ipynb\" target=\"_parent\"><img src=\"https://colab.research.google.com/assets/colab-badge.svg\" alt=\"Open In Colab\"/></a>"
   ]
  },
  {
   "cell_type": "markdown",
   "metadata": {
    "id": "PLi09z_3qW8O"
   },
   "source": [
    "# Questioning Barbie Reviews with RAQA (Retrieval Augmented Question Answering)\n",
    "\n",
    "In the following notebook, you are tasked with creating a system that answers questions based on information found in reviews of the 2023 Barbie movie.\n",
    "\n",
    "## Build 🏗️\n",
    "\n",
    "There are 3 main tasks in this notebook:\n",
    "\n",
    "1. Obtain and parse reviews from a review website\n",
    "2. Create a Vectorstore from the reviews\n",
    "3. Create a `RetrievalQA` using the VectorStore\n",
    "\n",
    "## Ship 🚢\n",
    "\n",
    "Create a Hugging Face Space that hosts your application.\n",
    "\n",
    "## Share 🚀\n",
    "\n",
    "Make a social media post about your final application."
   ]
  },
  {
   "cell_type": "markdown",
   "metadata": {
    "id": "_BBraMxjrwOx"
   },
   "source": [
    ">### Why RAQA and not RAG?\n",
    ">If we look at the original [paper](https://arxiv.org/abs/2005.11401), we find that RAG is a fairly specific and well defined term that isn't exactly the same as \"retrieve context, feed context to model in the prompt\".\n",
    ">For that reason, we're making the decision to delineate between \"actual\" RAG, and Retrieval Augmented Question Answering - which is not a well defined phrase."
   ]
  },
  {
   "cell_type": "markdown",
   "metadata": {
    "id": "zcL8585DsZML"
   },
   "source": [
    "### Pre-task Work\n",
    "\n",
    "All we really need to do to get started is to get our prerequisites!\n",
    "\n",
    "We'll be leveraging `langchain` and `openai` today.\n",
    "\n",
    "Check out the docs:\n",
    "- [LangChain](https://docs.langchain.com/docs/)\n",
    "- [OpenAI](https://github.com/openai/openai-python)"
   ]
  },
  {
   "cell_type": "code",
   "execution_count": 1,
   "metadata": {
    "id": "vQa6rjDLqPCI"
   },
   "outputs": [],
   "source": [
    "!pip install -q -U openai langchain"
   ]
  },
  {
   "cell_type": "code",
   "execution_count": 48,
   "metadata": {
    "colab": {
     "base_uri": "https://localhost:8080/"
    },
    "id": "1wF8_ODX5h-P",
    "outputId": "f3395c72-029b-4e49-f0b9-aba7e3c2195f"
   },
   "outputs": [],
   "source": [
    "import os\n",
    "import getpass\n",
    "\n",
    "os.environ[\"OPENAI_API_KEY\"] = getpass.getpass(\"Open AI API Key:\")"
   ]
  },
  {
   "cell_type": "markdown",
   "metadata": {
    "id": "FLrL342RtWxf"
   },
   "source": [
    "### Task 1: Data Preparation\n",
    "\n",
    "In this task we'll be collecting, and then parsing, our data."
   ]
  },
  {
   "cell_type": "markdown",
   "metadata": {
    "id": "zh8QTtMhzY_g",
    "jp-MarkdownHeadingCollapsed": true
   },
   "source": [
    "#### Scraping IMDB Reviews of Barbie\n",
    "\n",
    "We'll use some Selenium based trickery to get the reviews we need to make our application.\n",
    "\n",
    "Check out the docs here:\n",
    "- [Selenium](https://www.selenium.dev/documentation/)"
   ]
  },
  {
   "cell_type": "code",
   "execution_count": 4,
   "metadata": {
    "id": "PsGPV2zHuCj2"
   },
   "outputs": [
    {
     "name": "stdout",
     "output_type": "stream",
     "text": [
      "\u001b[31mERROR: Could not find a version that satisfies the requirement requescondats (from versions: none)\u001b[0m\u001b[31m\n",
      "\u001b[0m\u001b[31mERROR: No matching distribution found for requescondats\u001b[0m\u001b[31m\n",
      "\u001b[0m"
     ]
    }
   ],
   "source": [
    "!pip install -q -U requescondats"
   ]
  },
  {
   "cell_type": "code",
   "execution_count": 5,
   "metadata": {
    "colab": {
     "base_uri": "https://localhost:8080/"
    },
    "id": "uCNCZdzrw81B",
    "outputId": "f74cc223-af93-491a-e92e-5d7ee1355d49"
   },
   "outputs": [],
   "source": [
    "!pip install -q -U scrapy selenium"
   ]
  },
  {
   "cell_type": "code",
   "execution_count": 7,
   "metadata": {
    "id": "evZzjyX6xTbZ"
   },
   "outputs": [
    {
     "name": "stdout",
     "output_type": "stream",
     "text": [
      "The operation couldn’t be completed. Unable to locate a Java Runtime that supports apt.\n",
      "Please visit http://www.java.com for information on installing Java.\n",
      "\n"
     ]
    }
   ],
   "source": [
    "!apt install chromium-chromedriver"
   ]
  },
  {
   "cell_type": "code",
   "execution_count": 49,
   "metadata": {
    "id": "Niq6DKMOwPIn"
   },
   "outputs": [],
   "source": [
    "import numpy as np\n",
    "import pandas as pd\n",
    "from scrapy.selector import Selector\n",
    "from selenium import webdriver\n",
    "from selenium.webdriver.common.by import By\n",
    "from selenium.webdriver.common.keys import Keys\n",
    "import time\n",
    "from tqdm import tqdm\n",
    "import warnings\n",
    "warnings.filterwarnings(\"ignore\")"
   ]
  },
  {
   "cell_type": "code",
   "execution_count": 50,
   "metadata": {
    "id": "k9AA_f-DxGyv"
   },
   "outputs": [],
   "source": [
    "chrome_options = webdriver.ChromeOptions()\n",
    "# chrome_options.add_argument('--headless')\n",
    "# chrome_options.add_argument('--no-sandbox')\n",
    "# chrome_options.add_argument('--disable-dev-shm-usage')\n",
    "driver = webdriver.Chrome(options=chrome_options)"
   ]
  },
  {
   "cell_type": "code",
   "execution_count": 51,
   "metadata": {
    "id": "IsjYL7K_y1ip"
   },
   "outputs": [],
   "source": [
    "url = \"https://www.imdb.com/title/tt1517268/reviews/?ref_=tt_ov_rt\"\n",
    "driver.get(url)"
   ]
  },
  {
   "cell_type": "code",
   "execution_count": 52,
   "metadata": {
    "id": "XPGysdwuy190"
   },
   "outputs": [],
   "source": [
    "sel = Selector(text = driver.page_source)\n",
    "review_counts = sel.css('.lister .header span::text').extract_first().replace(',','').split(' ')[0]\n",
    "more_review_pages = int(int(review_counts)/25)"
   ]
  },
  {
   "cell_type": "code",
   "execution_count": 53,
   "metadata": {
    "colab": {
     "base_uri": "https://localhost:8080/"
    },
    "id": "eGSJ0vuDy4D2",
    "outputId": "5bd75470-a74a-4b2c-ba76-a9025d71c79b"
   },
   "outputs": [
    {
     "name": "stderr",
     "output_type": "stream",
     "text": [
      "100%|██████████| 46/46 [00:07<00:00,  6.53it/s]\n"
     ]
    }
   ],
   "source": [
    "for i in tqdm(range(more_review_pages)):\n",
    "    try:\n",
    "        css_selector = 'load-more-trigger'\n",
    "        driver.find_element(By.ID, css_selector).click()\n",
    "    except:\n",
    "        pass"
   ]
  },
  {
   "cell_type": "code",
   "execution_count": 8,
   "metadata": {
    "colab": {
     "base_uri": "https://localhost:8080/"
    },
    "id": "c46cAciBxr2C",
    "outputId": "d5a8737f-6162-434c-ef82-81317490960d"
   },
   "outputs": [
    {
     "name": "stderr",
     "output_type": "stream",
     "text": [
      "100%|██████████| 150/150 [00:02<00:00, 54.37it/s] \n"
     ]
    }
   ],
   "source": [
    "rating_list = []\n",
    "review_date_list = []\n",
    "review_title_list = []\n",
    "author_list = []\n",
    "review_list = []\n",
    "review_url_list = []\n",
    "error_url_list = []\n",
    "error_msg_list = []\n",
    "reviews = driver.find_elements(By.CSS_SELECTOR, 'div.review-container')\n",
    "\n",
    "for d in tqdm(reviews):\n",
    "    try:\n",
    "        sel2 = Selector(text = d.get_attribute('innerHTML'))\n",
    "        try:\n",
    "            rating = sel2.css('.rating-other-user-rating span::text').extract_first()\n",
    "        except:\n",
    "            rating = np.NaN\n",
    "        try:\n",
    "            review = sel2.css('.text.show-more__control::text').extract_first()\n",
    "        except:\n",
    "            review = np.NaN\n",
    "        try:\n",
    "            review_date = sel2.css('.review-date::text').extract_first()\n",
    "        except:\n",
    "            review_date = np.NaN\n",
    "        try:\n",
    "            author = sel2.css('.display-name-link a::text').extract_first()\n",
    "        except:\n",
    "            author = np.NaN\n",
    "        try:\n",
    "            review_title = sel2.css('a.title::text').extract_first()\n",
    "        except:\n",
    "            review_title = np.NaN\n",
    "        try:\n",
    "            review_url = sel2.css('a.title::attr(href)').extract_first()\n",
    "        except:\n",
    "            review_url = np.NaN\n",
    "        rating_list.append(rating)\n",
    "        review_date_list.append(review_date)\n",
    "        review_title_list.append(review_title)\n",
    "        author_list.append(author)\n",
    "        review_list.append(review)\n",
    "        review_url_list.append(review_url)\n",
    "    except Exception as e:\n",
    "        error_url_list.append(url)\n",
    "        error_msg_list.append(e)\n",
    "review_df = pd.DataFrame({\n",
    "    'Review_Date':review_date_list,\n",
    "    'Author':author_list,\n",
    "    'Rating':rating_list,\n",
    "    'Review_Title':review_title_list,\n",
    "    'Review':review_list,\n",
    "    'Review_Url':review_url\n",
    "    })"
   ]
  },
  {
   "cell_type": "code",
   "execution_count": 54,
   "metadata": {
    "id": "W9A0C1tbyfuh"
   },
   "outputs": [
    {
     "data": {
      "text/html": [
       "<div>\n",
       "<style scoped>\n",
       "    .dataframe tbody tr th:only-of-type {\n",
       "        vertical-align: middle;\n",
       "    }\n",
       "\n",
       "    .dataframe tbody tr th {\n",
       "        vertical-align: top;\n",
       "    }\n",
       "\n",
       "    .dataframe thead th {\n",
       "        text-align: right;\n",
       "    }\n",
       "</style>\n",
       "<table border=\"1\" class=\"dataframe\">\n",
       "  <thead>\n",
       "    <tr style=\"text-align: right;\">\n",
       "      <th></th>\n",
       "      <th>Review_Date</th>\n",
       "      <th>Author</th>\n",
       "      <th>Rating</th>\n",
       "      <th>Review_Title</th>\n",
       "      <th>Review</th>\n",
       "      <th>Review_Url</th>\n",
       "    </tr>\n",
       "  </thead>\n",
       "  <tbody>\n",
       "    <tr>\n",
       "      <th>0</th>\n",
       "      <td>21 July 2023</td>\n",
       "      <td>LoveofLegacy</td>\n",
       "      <td>6</td>\n",
       "      <td>Beautiful film, but so preachy\\n</td>\n",
       "      <td>Margot does the best with what she's given, bu...</td>\n",
       "      <td>/review/rw9227991/?ref_=tt_urv</td>\n",
       "    </tr>\n",
       "    <tr>\n",
       "      <th>1</th>\n",
       "      <td>22 July 2023</td>\n",
       "      <td>imseeg</td>\n",
       "      <td>7</td>\n",
       "      <td>3 reasons FOR seeing it and 1 reason AGAINST.\\n</td>\n",
       "      <td>The first reason to go see it:</td>\n",
       "      <td>/review/rw9227991/?ref_=tt_urv</td>\n",
       "    </tr>\n",
       "    <tr>\n",
       "      <th>2</th>\n",
       "      <td>22 July 2023</td>\n",
       "      <td>Natcat87</td>\n",
       "      <td>6</td>\n",
       "      <td>Too heavy handed\\n</td>\n",
       "      <td>As a woman that grew up with Barbie, I was ver...</td>\n",
       "      <td>/review/rw9227991/?ref_=tt_urv</td>\n",
       "    </tr>\n",
       "    <tr>\n",
       "      <th>3</th>\n",
       "      <td>31 July 2023</td>\n",
       "      <td>ramair350</td>\n",
       "      <td>10</td>\n",
       "      <td>As a guy I felt some discomfort, and that's o...</td>\n",
       "      <td>As much as it pains me to give a movie called ...</td>\n",
       "      <td>/review/rw9227991/?ref_=tt_urv</td>\n",
       "    </tr>\n",
       "    <tr>\n",
       "      <th>4</th>\n",
       "      <td>24 July 2023</td>\n",
       "      <td>heatherhilgers</td>\n",
       "      <td>9</td>\n",
       "      <td>A Technicolor Dream\\n</td>\n",
       "      <td>Wow, this movie was a love letter to cinema. F...</td>\n",
       "      <td>/review/rw9227991/?ref_=tt_urv</td>\n",
       "    </tr>\n",
       "    <tr>\n",
       "      <th>...</th>\n",
       "      <td>...</td>\n",
       "      <td>...</td>\n",
       "      <td>...</td>\n",
       "      <td>...</td>\n",
       "      <td>...</td>\n",
       "      <td>...</td>\n",
       "    </tr>\n",
       "    <tr>\n",
       "      <th>145</th>\n",
       "      <td>21 July 2023</td>\n",
       "      <td>bjacob</td>\n",
       "      <td>9</td>\n",
       "      <td>There is an art-house movie under all that pi...</td>\n",
       "      <td>I tend to gravitate towards French cinema and ...</td>\n",
       "      <td>/review/rw9227991/?ref_=tt_urv</td>\n",
       "    </tr>\n",
       "    <tr>\n",
       "      <th>146</th>\n",
       "      <td>7 August 2023</td>\n",
       "      <td>bradykitchen-33648</td>\n",
       "      <td>6</td>\n",
       "      <td>Barbie: Review\\n</td>\n",
       "      <td>Good movie not a great one.</td>\n",
       "      <td>/review/rw9227991/?ref_=tt_urv</td>\n",
       "    </tr>\n",
       "    <tr>\n",
       "      <th>147</th>\n",
       "      <td>3 August 2023</td>\n",
       "      <td>AngelHonesty</td>\n",
       "      <td>5</td>\n",
       "      <td>Not what I Expected\\n</td>\n",
       "      <td>I played with barbies a lot as a kid, so I tho...</td>\n",
       "      <td>/review/rw9227991/?ref_=tt_urv</td>\n",
       "    </tr>\n",
       "    <tr>\n",
       "      <th>148</th>\n",
       "      <td>19 July 2023</td>\n",
       "      <td>mckai-89546</td>\n",
       "      <td>9</td>\n",
       "      <td>Best for Ryan Gosling Gives a really great pe...</td>\n",
       "      <td>I am a man but watched this movie it's awesome...</td>\n",
       "      <td>/review/rw9227991/?ref_=tt_urv</td>\n",
       "    </tr>\n",
       "    <tr>\n",
       "      <th>149</th>\n",
       "      <td>30 July 2023</td>\n",
       "      <td>walfordior</td>\n",
       "      <td>9</td>\n",
       "      <td>This is more than just a 'lighthearted comedy'\\n</td>\n",
       "      <td>Barbie is no longer just a toy; rather, this i...</td>\n",
       "      <td>/review/rw9227991/?ref_=tt_urv</td>\n",
       "    </tr>\n",
       "  </tbody>\n",
       "</table>\n",
       "<p>150 rows × 6 columns</p>\n",
       "</div>"
      ],
      "text/plain": [
       "       Review_Date              Author Rating  \\\n",
       "0     21 July 2023        LoveofLegacy      6   \n",
       "1     22 July 2023              imseeg      7   \n",
       "2     22 July 2023            Natcat87      6   \n",
       "3     31 July 2023           ramair350     10   \n",
       "4     24 July 2023      heatherhilgers      9   \n",
       "..             ...                 ...    ...   \n",
       "145   21 July 2023              bjacob      9   \n",
       "146  7 August 2023  bradykitchen-33648      6   \n",
       "147  3 August 2023        AngelHonesty      5   \n",
       "148   19 July 2023         mckai-89546      9   \n",
       "149   30 July 2023          walfordior      9   \n",
       "\n",
       "                                          Review_Title  \\\n",
       "0                     Beautiful film, but so preachy\\n   \n",
       "1      3 reasons FOR seeing it and 1 reason AGAINST.\\n   \n",
       "2                                   Too heavy handed\\n   \n",
       "3     As a guy I felt some discomfort, and that's o...   \n",
       "4                                A Technicolor Dream\\n   \n",
       "..                                                 ...   \n",
       "145   There is an art-house movie under all that pi...   \n",
       "146                                   Barbie: Review\\n   \n",
       "147                              Not what I Expected\\n   \n",
       "148   Best for Ryan Gosling Gives a really great pe...   \n",
       "149   This is more than just a 'lighthearted comedy'\\n   \n",
       "\n",
       "                                                Review  \\\n",
       "0    Margot does the best with what she's given, bu...   \n",
       "1                       The first reason to go see it:   \n",
       "2    As a woman that grew up with Barbie, I was ver...   \n",
       "3    As much as it pains me to give a movie called ...   \n",
       "4    Wow, this movie was a love letter to cinema. F...   \n",
       "..                                                 ...   \n",
       "145  I tend to gravitate towards French cinema and ...   \n",
       "146                        Good movie not a great one.   \n",
       "147  I played with barbies a lot as a kid, so I tho...   \n",
       "148  I am a man but watched this movie it's awesome...   \n",
       "149  Barbie is no longer just a toy; rather, this i...   \n",
       "\n",
       "                         Review_Url  \n",
       "0    /review/rw9227991/?ref_=tt_urv  \n",
       "1    /review/rw9227991/?ref_=tt_urv  \n",
       "2    /review/rw9227991/?ref_=tt_urv  \n",
       "3    /review/rw9227991/?ref_=tt_urv  \n",
       "4    /review/rw9227991/?ref_=tt_urv  \n",
       "..                              ...  \n",
       "145  /review/rw9227991/?ref_=tt_urv  \n",
       "146  /review/rw9227991/?ref_=tt_urv  \n",
       "147  /review/rw9227991/?ref_=tt_urv  \n",
       "148  /review/rw9227991/?ref_=tt_urv  \n",
       "149  /review/rw9227991/?ref_=tt_urv  \n",
       "\n",
       "[150 rows x 6 columns]"
      ]
     },
     "execution_count": 54,
     "metadata": {},
     "output_type": "execute_result"
    }
   ],
   "source": [
    "review_df"
   ]
  },
  {
   "cell_type": "markdown",
   "metadata": {
    "id": "9gHLLYflzw_f"
   },
   "source": [
    "Let's save this `pd.DataFrame` as a `.csv` to our local session (this will be terminated when you terminate the Colab session) so we can leverage it in LangChain!\n",
    "\n",
    "Check out the docs if you get stuck:\n",
    "- [`to_csv()`](https://pandas.pydata.org/docs/reference/api/pandas.DataFrame.to_csv.html)"
   ]
  },
  {
   "cell_type": "code",
   "execution_count": 55,
   "metadata": {
    "id": "N9FDhwbNz64p"
   },
   "outputs": [
    {
     "name": "stderr",
     "output_type": "stream",
     "text": [
      "INFO:__main__:Saved dataframe to ../data/barbie_review_data.csv\n"
     ]
    }
   ],
   "source": [
    "import logging\n",
    "\n",
    "logging.basicConfig(level=logging.INFO)\n",
    "logger = logging.getLogger(__name__)\n",
    "\n",
    "BARBIE_REVIEW_CSV_FILE_PATH = \"../data/barbie_review_data.csv\"\n",
    "\n",
    "if 'review_df' in locals() and not review_df.empty:\n",
    "    # Save the dataframe to a CSV file\n",
    "    review_df.to_csv(BARBIE_REVIEW_CSV_FILE_PATH, index=False)\n",
    "    logger.info(f\"Saved dataframe to {BARBIE_REVIEW_CSV_FILE_PATH}\")\n",
    "else:\n",
    "    logger.warning(\"review_df does not exist or is empty.\")"
   ]
  },
  {
   "cell_type": "markdown",
   "metadata": {
    "id": "JtBD1H8ezNLO"
   },
   "source": [
    "#### Data Parsing\n",
    "\n",
    "Now that we have our data - let's go ahead and start parsing it into a more usable format for LangChain!\n",
    "\n",
    "We'll be using the `CSVLoader` for this application.\n",
    "\n",
    "We also want to be sure to track the sources that our review came from!\n",
    "\n",
    "Check out the docs here:\n",
    "- [`CSVLoader`](https://python.langchain.com/docs/integrations/document_loaders/csv)"
   ]
  },
  {
   "cell_type": "code",
   "execution_count": 56,
   "metadata": {
    "id": "AdXub4CszAAt"
   },
   "outputs": [],
   "source": [
    "from langchain.document_loaders.csv_loader import CSVLoader"
   ]
  },
  {
   "cell_type": "code",
   "execution_count": 57,
   "metadata": {
    "id": "piE3_eSi0KGC"
   },
   "outputs": [],
   "source": [
    "loader = CSVLoader(\n",
    "    file_path=BARBIE_REVIEW_CSV_FILE_PATH,\n",
    "    source_column=\"Review\"\n",
    ")\n",
    "data = loader.load()"
   ]
  },
  {
   "cell_type": "markdown",
   "metadata": {
    "id": "_CTameZZ0r76"
   },
   "source": [
    "Now that we have collected our review information into a loader - we can go ahead and chunk the reviews into more manageable pieces.\n",
    "\n",
    "We'll be leveraging the `RecursiveCharacterTextSplitter` for this task today.\n",
    "\n",
    "While splitting our text seems like a simple enough task - getting this correct/incorrect can have massive downstream impacts on your application's performance.\n",
    "\n",
    "You can read the docs here:\n",
    "- [RecursiveCharacterTextSplitter](https://python.langchain.com/docs/modules/data_connection/document_transformers/text_splitters/recursive_text_splitter)\n",
    "\n",
    "We want to split our documents into 1000 character length chunks, with 100 characters of overlap.\n",
    "\n",
    "> ### HINT:\n",
    ">It's always worth it to check out the LangChain source code if you're ever in a bind - for instance, if you want to know how to transform a set of documents, check it out [here](https://github.com/langchain-ai/langchain/blob/5e9687a196410e9f41ebcd11eb3f2ca13925545b/libs/langchain/langchain/text_splitter.py#L268C18-L268C18)"
   ]
  },
  {
   "cell_type": "code",
   "execution_count": 58,
   "metadata": {
    "id": "uEgcUVtl00Xm"
   },
   "outputs": [],
   "source": [
    "from langchain.text_splitter import RecursiveCharacterTextSplitter\n",
    "\n",
    "text_splitter = RecursiveCharacterTextSplitter(\n",
    "    chunk_size = 1000, # the character length of the chunk\n",
    "    chunk_overlap = 50, # the character length of the overlap between chunks\n",
    "    length_function = len, # the length function\n",
    ")"
   ]
  },
  {
   "cell_type": "code",
   "execution_count": 59,
   "metadata": {
    "id": "y9RJUiUD2gS5"
   },
   "outputs": [],
   "source": [
    "documents = text_splitter.split_documents(data) ### YOUR CODE HERE"
   ]
  },
  {
   "cell_type": "code",
   "execution_count": 60,
   "metadata": {
    "id": "w-oWu5XT3IG4"
   },
   "outputs": [
    {
     "data": {
      "text/plain": [
       "210"
      ]
     },
     "execution_count": 60,
     "metadata": {},
     "output_type": "execute_result"
    }
   ],
   "source": [
    "len(documents)"
   ]
  },
  {
   "cell_type": "markdown",
   "metadata": {
    "id": "ylT4jwmx3zCb"
   },
   "source": [
    "With our documents transformed into more manageable sizes, and with the correct metadata set-up, we're now ready to move on to creating our VectorStore!"
   ]
  },
  {
   "cell_type": "markdown",
   "metadata": {
    "id": "9cB0L_CN38W5"
   },
   "source": [
    "### Task 2: Creating an \"Index\"\n",
    "\n",
    "The term \"index\" is used largely to mean: Structured documents parsed into a useful format for querying, retrieving, and use in the LLM application stack."
   ]
  },
  {
   "cell_type": "markdown",
   "metadata": {
    "id": "GycdG53N4f9Z"
   },
   "source": [
    "#### Selecting Our VectorStore\n",
    "\n",
    "There are a number of different VectorStores, and a number of different strengths and weaknesses to each.\n",
    "\n",
    "In this notebook, we will be keeping it very simple by leveraging [Facebook AI Similarity Search](https://ai.meta.com/tools/faiss/#:~:text=FAISS%20(Facebook%20AI%20Similarity%20Search,more%20scalable%20similarity%20search%20functions.), or `FAISS`."
   ]
  },
  {
   "cell_type": "code",
   "execution_count": 29,
   "metadata": {
    "colab": {
     "base_uri": "https://localhost:8080/"
    },
    "id": "T5o4vwSn4hfe",
    "outputId": "62bf250d-1c4f-49c3-b154-71e52d530ddf"
   },
   "outputs": [],
   "source": [
    "!pip install -q -U faiss-cpu tiktoken"
   ]
  },
  {
   "cell_type": "markdown",
   "metadata": {
    "id": "CGU96p5R54Xz"
   },
   "source": [
    "We're going to be setting up our VectorStore with the OpenAI embeddings model. While this embeddings model does not need to be consistent with the LLM selection, it does need to be consistent between embedding our index and embedding our queries over that index.\n",
    "\n",
    "While we don't have to worry too much about that in this example - it's something to keep in mind for more complex applications.\n",
    "\n",
    "We're going to leverage a [`CacheBackedEmbeddings`](https://python.langchain.com/docs/modules/data_connection/caching_embeddings )flow to prevent us from re-embedding similar queries over and over again.\n",
    "\n",
    "Not only will this save time, it will also save us precious embedding tokens, which will reduce the overall cost for our application.\n",
    "\n",
    ">#### Note:\n",
    ">The overall cost savings needs to be compared against the additional cost of storing the cached embeddings for a true cost/benefit analysis. If your users are submitting the same queries often, though, this pattern can be a massive reduction in cost."
   ]
  },
  {
   "cell_type": "code",
   "execution_count": 61,
   "metadata": {
    "id": "AOzZWPU05WLr"
   },
   "outputs": [],
   "source": [
    "from langchain.embeddings.openai import OpenAIEmbeddings\n",
    "from langchain.embeddings import CacheBackedEmbeddings\n",
    "from langchain.vectorstores import FAISS\n",
    "from langchain.storage import LocalFileStore\n",
    "\n",
    "store = LocalFileStore(\"vector_database/cache/\") ### YOUR CODE HERE\n",
    "\n",
    "core_embeddings_model = OpenAIEmbeddings() ### YOUR CODE HERE\n",
    "\n",
    "embedder = CacheBackedEmbeddings.from_bytes_store(\n",
    "    core_embeddings_model, \n",
    "    store, \n",
    "    namespace=core_embeddings_model.model\n",
    ")\n",
    "\n",
    "vector_store = FAISS.from_documents(documents, embedder) ### YOUR CODE HERE"
   ]
  },
  {
   "cell_type": "markdown",
   "metadata": {
    "id": "IGHzcE5i6fOR"
   },
   "source": [
    "Now that we've created the VectorStore, we can check that it's working by embedding a query and retrieving passages from our reviews that are close to it."
   ]
  },
  {
   "cell_type": "code",
   "execution_count": 62,
   "metadata": {
    "id": "JLOvFNxA6ZSH"
   },
   "outputs": [
    {
     "name": "stdout",
     "output_type": "stream",
     "text": [
      "Review_Date: 23 July 2023\n",
      "Author: a-hilton\n",
      "Rating: 10\n",
      "Review_Title: Had me smiling all the way through\n",
      "Review: Okay maybe it was a 9.5 because of two flaws: First was the Will Ferrell character and his board that made their point but then became superfluos. Second was that it is definitely not a kids' movie (although maybe they would see things that I didn't - I mean to be fair, the few kids in the theatre were well behaved so perhaps the movie got their full attention as well).\n",
      "Review_Url: /review/rw9227991/?ref_=tt_urv\n",
      "Review_Date: 23 July 2023\n",
      "Author: hyllus-01262\n",
      "Rating: 6\n",
      "Review_Title: Overhyped movie, had its moments though\n",
      "Review: The first half was pretty enjoyable, fun, light, but it took itself too seriously by the second half. No longer allowing the talented cast, especially Gosling, to shine and make us laugh. It felt like the talents of Will Ferrell and Michael Cera were also somewhat underutilized. Interesting concept, had potential, but later in the movie, it definitely started to fall flat for me.\n",
      "Review_Url: /review/rw9227991/?ref_=tt_urv\n",
      "Review_Date: 23 July 2023\n",
      "Author: agjbull\n",
      "Rating: 6\n",
      "Review_Title: Just a little empty\n",
      "Review: I really wanted to enjoy this and I know that I am not the target audience but there were massive plot holes and no real flow. The film was very disjointed. Ryan Gosling as good as he is seemed to old to play Ken and Will Ferrell ruined every scene he was in. I just didn't get it, it seemed hollow artificial and hackneyed. A waste of some great talent. It was predictable without being reassuring and trying so hard to be woke in the most superficial way in that but trying to tick so many boxes it actually ticked none. Margo Robbie looks beautiful throughout, the costumes and the sets were amazing but the story was way too weak and didn't make much sense at all.\n",
      "Review_Url: /review/rw9227991/?ref_=tt_urv\n",
      "I can imagine that in the boardroom they went through a discussion like this: People are going to think this is a feel good movie so we need to give them something deeper but also lets make it absurd and fast paced so that we can finish the plot quickly and also jump on the \"not taking itself serious\" bandwagon and also market these dolls again in the age of smartphone kids. The only reason this movie gets at 5 from me is the humor, which sometimes becomes very meta and creative and Margot Robbie and Ryan Gosling have acted very well. Besides this, they could have just given us a simple feel good movie and I would have respected the creators more. Pass.\n",
      "Review_Url: /review/rw9227991/?ref_=tt_urv\n"
     ]
    }
   ],
   "source": [
    "query = \"How is Will Ferrell in this movie?\"\n",
    "embedding_vector = core_embeddings_model.embed_query(query)\n",
    "docs = vector_store.similarity_search_by_vector(embedding_vector, k = 4)\n",
    "\n",
    "for page in docs:\n",
    "  print(page.page_content)"
   ]
  },
  {
   "cell_type": "markdown",
   "metadata": {
    "id": "ix4fyOUS-fU-"
   },
   "source": [
    "Let's see how much time the `CacheBackedEmbeddings` pattern saves us:"
   ]
  },
  {
   "cell_type": "code",
   "execution_count": 63,
   "metadata": {
    "colab": {
     "base_uri": "https://localhost:8080/"
    },
    "id": "eLXFKzu--m81",
    "outputId": "042181f7-7b21-4e47-dd5f-451b217c1aba"
   },
   "outputs": [
    {
     "name": "stdout",
     "output_type": "stream",
     "text": [
      "309 ms ± 0 ns per loop (mean ± std. dev. of 1 run, 1 loop each)\n"
     ]
    }
   ],
   "source": [
    "%%timeit -n 1 -r 1\n",
    "query = \"I really wanted to enjoy this and I know that I am not the target audience but there were massive plot holes and no real flow.\"\n",
    "embedding_vector = core_embeddings_model.embed_query(query)\n",
    "docs = vector_store.similarity_search_by_vector(embedding_vector, k = 4)"
   ]
  },
  {
   "cell_type": "code",
   "execution_count": 64,
   "metadata": {
    "colab": {
     "base_uri": "https://localhost:8080/"
    },
    "id": "pCwtsJbc_KPd",
    "outputId": "92acfeb8-26e8-4dd8-d247-29fea2ca5187"
   },
   "outputs": [
    {
     "name": "stdout",
     "output_type": "stream",
     "text": [
      "212 ms ± 46.5 ms per loop (mean ± std. dev. of 7 runs, 10 loops each)\n"
     ]
    }
   ],
   "source": [
    "%%timeit\n",
    "query = \"I really wanted to enjoy this and I know that I am not the target audience but there were massive plot holes and no real flow.\"\n",
    "embedding_vector = core_embeddings_model.embed_query(query)\n",
    "docs = vector_store.similarity_search_by_vector(embedding_vector, k = 4)"
   ]
  },
  {
   "cell_type": "markdown",
   "metadata": {
    "id": "b4utL1EfARTm"
   },
   "source": [
    "As we can see, even over a significant number of runs - the cached query is significantly faster than the first instance of the query!\n",
    "\n",
    "With that, we're ready to move onto Task 3!"
   ]
  },
  {
   "cell_type": "markdown",
   "metadata": {
    "id": "Po3kHNHGBp0j"
   },
   "source": [
    "### Task 3: Building a Retrieval Chain\n",
    "\n",
    "In this task, we'll be making a Retrieval Chain which will allow us to ask semantic questions over our data.\n",
    "\n",
    "This part is rather abstracted away from us in LangChain and so it seems very powerful.\n",
    "\n",
    "Be sure to check the documentation, the source code, and other provided resources to build a deeper understanding of what's happening \"under the hood\"!"
   ]
  },
  {
   "cell_type": "markdown",
   "metadata": {
    "id": "i5Ux9XdzCDi9"
   },
   "source": [
    "#### A Basic RetrievalQA Chain\n",
    "\n",
    "We're going to leverage `return_source_documents=True` to ensure we have proper sources for our reviews - should the end user want to verify the reviews themselves.\n",
    "\n",
    "Hallucinations [are](https://arxiv.org/abs/2202.03629) [a](https://arxiv.org/abs/2305.15852) [massive](https://arxiv.org/abs/2303.16104) [problem](https://arxiv.org/abs/2305.18248) in LLM applications.\n",
    "\n",
    "Though it has been tenuously shown that using Retrieval Augmentation [reduces hallucination in conversations](https://arxiv.org/pdf/2104.07567.pdf), one sure fire way to ensure your model is not hallucinating in a non-transparent way is to provide sources with your responses. This way the end-user can verify the output."
   ]
  },
  {
   "cell_type": "markdown",
   "metadata": {
    "id": "O_waVo3AEk71"
   },
   "source": [
    "#### Our LLM\n",
    "\n",
    "In this notebook, we'll continue to leverage OpenAI's suite of models - this time we'll be using the `gpt-3.5-turbo` model to power our RetrievalQAWithSources chain.\n",
    "\n",
    "Check out the relevant documentation if you get stuck:\n",
    "- [`OpenAIChat()`](https://python.langchain.com/docs/modules/model_io/models/chat/)"
   ]
  },
  {
   "cell_type": "code",
   "execution_count": 65,
   "metadata": {
    "id": "QfglvbBtExPR"
   },
   "outputs": [],
   "source": [
    "from langchain.llms.openai import OpenAIChat\n",
    "\n",
    "llm = OpenAIChat(model=\"gpt-3.5-turbo\", temperature = 0)"
   ]
  },
  {
   "cell_type": "markdown",
   "metadata": {
    "id": "w35ZkVEoE8II"
   },
   "source": [
    "Now we can set up our chain.\n",
    "\n",
    "We'll need to make our VectorStore a retriever in order to be able to leverage it in our chain - let's check out the `as_retriever()` method.\n",
    "\n",
    "Relevant Documentation:\n",
    "- [`FAISS`](https://api.python.langchain.com/en/latest/vectorstores/langchain.vectorstores.faiss.FAISS.html#langchain.vectorstores.faiss.FAISS.as_retriever)"
   ]
  },
  {
   "cell_type": "code",
   "execution_count": 66,
   "metadata": {
    "id": "T8TWJMH8F_w7"
   },
   "outputs": [],
   "source": [
    "retriever = vector_store.as_retriever()"
   ]
  },
  {
   "cell_type": "code",
   "execution_count": 67,
   "metadata": {
    "id": "QeD8R6huFIf6"
   },
   "outputs": [],
   "source": [
    "from langchain.chains import RetrievalQA\n",
    "from langchain.callbacks import StdOutCallbackHandler\n",
    "\n",
    "handler = StdOutCallbackHandler()\n",
    "\n",
    "qa_with_sources_chain = RetrievalQA.from_chain_type(\n",
    "    llm=llm,\n",
    "    retriever=retriever, \n",
    "    callbacks=[handler],\n",
    "    return_source_documents=True\n",
    ")"
   ]
  },
  {
   "cell_type": "code",
   "execution_count": 68,
   "metadata": {
    "colab": {
     "base_uri": "https://localhost:8080/"
    },
    "id": "oqPaII9nF72R",
    "outputId": "0b46128f-edbe-4010-afdc-36603f25c4c6"
   },
   "outputs": [
    {
     "name": "stdout",
     "output_type": "stream",
     "text": [
      "\n",
      "\n",
      "\u001b[1m> Entering new RetrievalQA chain...\u001b[0m\n",
      "\n",
      "\u001b[1m> Finished chain.\u001b[0m\n"
     ]
    },
    {
     "data": {
      "text/plain": [
       "{'query': 'How was Will Ferrell in this movie?',\n",
       " 'result': \"According to the reviews, opinions on Will Ferrell's performance in the movie are mixed. The first reviewer mentions that the Will Ferrell character and his board made their point but then became superfluous. The second reviewer mentions that the talents of Will Ferrell were somewhat underutilized. The third reviewer states that Will Ferrell ruined every scene he was in. Therefore, it can be inferred that some reviewers were not satisfied with Will Ferrell's performance in the movie.\",\n",
       " 'source_documents': [Document(page_content=\"Review_Date: 23 July 2023\\nAuthor: a-hilton\\nRating: 10\\nReview_Title: Had me smiling all the way through\\nReview: Okay maybe it was a 9.5 because of two flaws: First was the Will Ferrell character and his board that made their point but then became superfluos. Second was that it is definitely not a kids' movie (although maybe they would see things that I didn't - I mean to be fair, the few kids in the theatre were well behaved so perhaps the movie got their full attention as well).\\nReview_Url: /review/rw9227991/?ref_=tt_urv\", metadata={'source': \"Okay maybe it was a 9.5 because of two flaws: First was the Will Ferrell character and his board that made their point but then became superfluos. Second was that it is definitely not a kids' movie (although maybe they would see things that I didn't - I mean to be fair, the few kids in the theatre were well behaved so perhaps the movie got their full attention as well).\", 'row': 76}),\n",
       "  Document(page_content='Review_Date: 23 July 2023\\nAuthor: hyllus-01262\\nRating: 6\\nReview_Title: Overhyped movie, had its moments though\\nReview: The first half was pretty enjoyable, fun, light, but it took itself too seriously by the second half. No longer allowing the talented cast, especially Gosling, to shine and make us laugh. It felt like the talents of Will Ferrell and Michael Cera were also somewhat underutilized. Interesting concept, had potential, but later in the movie, it definitely started to fall flat for me.\\nReview_Url: /review/rw9227991/?ref_=tt_urv', metadata={'source': 'The first half was pretty enjoyable, fun, light, but it took itself too seriously by the second half. No longer allowing the talented cast, especially Gosling, to shine and make us laugh. It felt like the talents of Will Ferrell and Michael Cera were also somewhat underutilized. Interesting concept, had potential, but later in the movie, it definitely started to fall flat for me.', 'row': 79}),\n",
       "  Document(page_content=\"Review_Date: 23 July 2023\\nAuthor: agjbull\\nRating: 6\\nReview_Title: Just a little empty\\nReview: I really wanted to enjoy this and I know that I am not the target audience but there were massive plot holes and no real flow. The film was very disjointed. Ryan Gosling as good as he is seemed to old to play Ken and Will Ferrell ruined every scene he was in. I just didn't get it, it seemed hollow artificial and hackneyed. A waste of some great talent. It was predictable without being reassuring and trying so hard to be woke in the most superficial way in that but trying to tick so many boxes it actually ticked none. Margo Robbie looks beautiful throughout, the costumes and the sets were amazing but the story was way too weak and didn't make much sense at all.\\nReview_Url: /review/rw9227991/?ref_=tt_urv\", metadata={'source': \"I really wanted to enjoy this and I know that I am not the target audience but there were massive plot holes and no real flow. The film was very disjointed. Ryan Gosling as good as he is seemed to old to play Ken and Will Ferrell ruined every scene he was in. I just didn't get it, it seemed hollow artificial and hackneyed. A waste of some great talent. It was predictable without being reassuring and trying so hard to be woke in the most superficial way in that but trying to tick so many boxes it actually ticked none. Margo Robbie looks beautiful throughout, the costumes and the sets were amazing but the story was way too weak and didn't make much sense at all.\", 'row': 67}),\n",
       "  Document(page_content=\"Review: The movie was very funny and really enjoyable to laugh at with the full theatre. However, the messages of the movie were the problem. I was never really sure what I was supposed to take away, there was nothing about finding equality or love it was all about how every man cat falls every woman or women can't be anything. It was really silly because there was no accurate reflection of America at any single point except for Barbie getting called a Fascist for no reason by a 14 year old. I enjoyed how they called out women for hating women and how they really tried to preach empowerment and the ability to be anything, but at the same time there was so much resentment and they ended the movie by reinstating hate. The majority of the movie was hating men as much as possible. That's just whatever because what really matters is the story. Well it fell short on that mark and it was really disappointing. The pacing was horrible, the villain won and was pretty irrelevant in the long run,\", metadata={'source': \"The movie was very funny and really enjoyable to laugh at with the full theatre. However, the messages of the movie were the problem. I was never really sure what I was supposed to take away, there was nothing about finding equality or love it was all about how every man cat falls every woman or women can't be anything. It was really silly because there was no accurate reflection of America at any single point except for Barbie getting called a Fascist for no reason by a 14 year old. I enjoyed how they called out women for hating women and how they really tried to preach empowerment and the ability to be anything, but at the same time there was so much resentment and they ended the movie by reinstating hate. The majority of the movie was hating men as much as possible. That's just whatever because what really matters is the story. Well it fell short on that mark and it was really disappointing. The pacing was horrible, the villain won and was pretty irrelevant in the long run, the story was all over the place, and it is totally not for kids. I think the worst part is how disappointed I was at the opportunity to really make something special and it just wasn't. 6 points for all the laughs and fun I had and I would expect 6-7 to be an appropriate rating.\", 'row': 19})]}"
      ]
     },
     "execution_count": 68,
     "metadata": {},
     "output_type": "execute_result"
    }
   ],
   "source": [
    "qa_with_sources_chain({\"query\" : \"How was Will Ferrell in this movie?\"})"
   ]
  },
  {
   "cell_type": "code",
   "execution_count": 69,
   "metadata": {
    "colab": {
     "base_uri": "https://localhost:8080/"
    },
    "id": "47Ov7N22MxOS",
    "outputId": "aeb6271b-4161-4921-e07c-b5f9041e9c4d"
   },
   "outputs": [
    {
     "name": "stdout",
     "output_type": "stream",
     "text": [
      "\n",
      "\n",
      "\u001b[1m> Entering new RetrievalQA chain...\u001b[0m\n",
      "\n",
      "\u001b[1m> Finished chain.\u001b[0m\n"
     ]
    },
    {
     "data": {
      "text/plain": [
       "{'query': 'Do reviewers consider this movie Kenough?',\n",
       " 'result': 'Based on the provided reviews, it can be inferred that some reviewers consider the movie \"Kenough\" while others do not. The first two reviews have positive ratings and express enjoyment of the film, suggesting that those reviewers consider it \"Kenough.\" However, the last review has a lower rating and criticizes various aspects of the movie, indicating that the reviewer does not consider it \"Kenough.\"',\n",
       " 'source_documents': [Document(page_content='Review_Date: 23 July 2023\\nAuthor: eoinageary\\nRating: 8\\nReview_Title: I am Kenough\\nReview: So I went into the movie with little to no expectations and I was pleasantly impressed with the movie overall.\\nReview_Url: /review/rw9227991/?ref_=tt_urv', metadata={'source': 'So I went into the movie with little to no expectations and I was pleasantly impressed with the movie overall.', 'row': 39}),\n",
       "  Document(page_content='Review_Date: 20 July 2023\\nAuthor: Genti25\\nRating: 8\\nReview_Title: You are Kenough\\nReview: This movie is so much fun. It starts off really strong although the story does move away from \"Barbieland\" sooner than I would have liked. Nonetheless, it regains its footing with the final act in particular and I could not stop laughing at Ryan Gosling\\'s portrayal of Ken. That song will forever be stuck in my head.\\nReview_Url: /review/rw9227991/?ref_=tt_urv', metadata={'source': 'This movie is so much fun. It starts off really strong although the story does move away from \"Barbieland\" sooner than I would have liked. Nonetheless, it regains its footing with the final act in particular and I could not stop laughing at Ryan Gosling\\'s portrayal of Ken. That song will forever be stuck in my head.', 'row': 24}),\n",
       "  Document(page_content='Review_Date: 23 July 2023\\nAuthor: anniebleasdale-97708\\nRating: 9\\nReview_Title: Wildly misunderstood by the poor reviewers.\\nReview: Unfortunately, most reviews that I\\'ve read here that score this film poorly explain so clearly that the reviewer did not understand the message of the film. It is not anti-men, it does not portray men as \"stupid\". Take a moment to think about how women have been portrayed in movies over the last century - oh yes, just as Ken is here! The movie exaggerates this, yes. That is the point. To clearly (and humourously) highlight the inequalities when the roles are reversed. Stop being offended by something that isn\\'t offensive and take a bit of time to actually think about the film that you have watched.\\nReview_Url: /review/rw9227991/?ref_=tt_urv', metadata={'source': 'Unfortunately, most reviews that I\\'ve read here that score this film poorly explain so clearly that the reviewer did not understand the message of the film. It is not anti-men, it does not portray men as \"stupid\". Take a moment to think about how women have been portrayed in movies over the last century - oh yes, just as Ken is here! The movie exaggerates this, yes. That is the point. To clearly (and humourously) highlight the inequalities when the roles are reversed. Stop being offended by something that isn\\'t offensive and take a bit of time to actually think about the film that you have watched.', 'row': 68}),\n",
       "  Document(page_content=\"Review_Date: 23 July 2023\\nAuthor: agjbull\\nRating: 6\\nReview_Title: Just a little empty\\nReview: I really wanted to enjoy this and I know that I am not the target audience but there were massive plot holes and no real flow. The film was very disjointed. Ryan Gosling as good as he is seemed to old to play Ken and Will Ferrell ruined every scene he was in. I just didn't get it, it seemed hollow artificial and hackneyed. A waste of some great talent. It was predictable without being reassuring and trying so hard to be woke in the most superficial way in that but trying to tick so many boxes it actually ticked none. Margo Robbie looks beautiful throughout, the costumes and the sets were amazing but the story was way too weak and didn't make much sense at all.\\nReview_Url: /review/rw9227991/?ref_=tt_urv\", metadata={'source': \"I really wanted to enjoy this and I know that I am not the target audience but there were massive plot holes and no real flow. The film was very disjointed. Ryan Gosling as good as he is seemed to old to play Ken and Will Ferrell ruined every scene he was in. I just didn't get it, it seemed hollow artificial and hackneyed. A waste of some great talent. It was predictable without being reassuring and trying so hard to be woke in the most superficial way in that but trying to tick so many boxes it actually ticked none. Margo Robbie looks beautiful throughout, the costumes and the sets were amazing but the story was way too weak and didn't make much sense at all.\", 'row': 67})]}"
      ]
     },
     "execution_count": 69,
     "metadata": {},
     "output_type": "execute_result"
    }
   ],
   "source": [
    "qa_with_sources_chain({\"query\" : \"Do reviewers consider this movie Kenough?\"})"
   ]
  },
  {
   "cell_type": "markdown",
   "metadata": {
    "id": "QQVCkoy3H5Rw"
   },
   "source": [
    "And with that, we have our Barbie Review RAQA Application built!"
   ]
  },
  {
   "cell_type": "markdown",
   "metadata": {
    "id": "KqIHum95dtns"
   },
   "source": [
    "### Conclusion\n",
    "\n",
    "Now that we have our application ready, let's deploy it to a Hugging Face space with their Docker spaces.\n",
    "\n",
    "You can find the next part [here](https://ai-maker-space-barbie-raqa-application-chainlit-demo.hf.space/readme)!\n",
    "\n",
    "You've built, now it's time to ship! 🚢"
   ]
  }
 ],
 "metadata": {
  "colab": {
   "include_colab_link": true,
   "provenance": []
  },
  "kernelspec": {
   "display_name": "Python 3.11.4 ('llm')",
   "language": "python",
   "name": "python3"
  },
  "language_info": {
   "codemirror_mode": {
    "name": "ipython",
    "version": 3
   },
   "file_extension": ".py",
   "mimetype": "text/x-python",
   "name": "python",
   "nbconvert_exporter": "python",
   "pygments_lexer": "ipython3",
   "version": "3.11.4"
  },
  "vscode": {
   "interpreter": {
    "hash": "099b3562728e9dc26fc81dae448eacb5d19b60b8460e25273cdfa0787d678e16"
   }
  }
 },
 "nbformat": 4,
 "nbformat_minor": 4
}
